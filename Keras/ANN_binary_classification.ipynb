{
  "nbformat": 4,
  "nbformat_minor": 0,
  "metadata": {
    "colab": {
      "name": "ANN - binary classification.ipynb",
      "provenance": [],
      "authorship_tag": "ABX9TyPm1q1+QOINPg4DUP0KeLPg",
      "include_colab_link": true
    },
    "kernelspec": {
      "name": "python3",
      "display_name": "Python 3"
    },
    "language_info": {
      "name": "python"
    },
    "accelerator": "GPU"
  },
  "cells": [
    {
      "cell_type": "markdown",
      "metadata": {
        "id": "view-in-github",
        "colab_type": "text"
      },
      "source": [
        "<a href=\"https://colab.research.google.com/github/DebadityaShome/Deep-learning-practice/blob/main/Keras/ANN_binary_classification.ipynb\" target=\"_parent\"><img src=\"https://colab.research.google.com/assets/colab-badge.svg\" alt=\"Open In Colab\"/></a>"
      ]
    },
    {
      "cell_type": "markdown",
      "metadata": {
        "id": "3BoW4bimo7XH"
      },
      "source": [
        "## **Data Preparation and Processing**"
      ]
    },
    {
      "cell_type": "code",
      "metadata": {
        "id": "I9D3h23golaQ"
      },
      "source": [
        "import numpy as np\n",
        "from random import randint\n",
        "from sklearn.utils import shuffle\n",
        "from sklearn.preprocessing import MinMaxScaler"
      ],
      "execution_count": 1,
      "outputs": []
    },
    {
      "cell_type": "code",
      "metadata": {
        "id": "2zUaNy-bpLfT"
      },
      "source": [
        "train_labels = []\n",
        "train_samples = []"
      ],
      "execution_count": 2,
      "outputs": []
    },
    {
      "cell_type": "markdown",
      "metadata": {
        "id": "dATyi99spOy1"
      },
      "source": [
        "## Creating example data for the scenario:\n",
        "\n",
        "\n",
        "*   An experimental drug was tested on individuals from ages 13 to 100 in a clinical trial\n",
        "*   The trial had 2100 participants. Half were under 65 years old, and half were 65 years or older.\n",
        "*   Around 95% of patients who were 65 years or older experienced side effects.\n",
        "*   Around 95% of patients under 65 experienced no side effects.\n",
        "\n"
      ]
    },
    {
      "cell_type": "code",
      "metadata": {
        "id": "Njaut6eCpN3f"
      },
      "source": [
        "for i in range(50):\n",
        "    # The ~5% of younger individuals who did experience side effects\n",
        "    random_younger = randint(13, 64)\n",
        "    train_samples.append(random_younger)\n",
        "    train_labels.append(1)\n",
        "\n",
        "    # The ~5% of older individuals who didn't experience side effects\n",
        "    random_older = randint(65, 100)\n",
        "    train_samples.append(random_older)\n",
        "    train_labels.append(0)\n",
        "\n",
        "for i in range(1000):\n",
        "    # The ~95% of younger individuals who did experience side effects\n",
        "    random_younger = randint(13, 64)\n",
        "    train_samples.append(random_younger)\n",
        "    train_labels.append(0)\n",
        "\n",
        "    # The ~95% of older individuals who didn't experience side effects\n",
        "    random_older = randint(65, 100)\n",
        "    train_samples.append(random_older)\n",
        "    train_labels.append(1)"
      ],
      "execution_count": 3,
      "outputs": []
    },
    {
      "cell_type": "code",
      "metadata": {
        "colab": {
          "base_uri": "https://localhost:8080/"
        },
        "id": "zEVaFPkorJt7",
        "outputId": "63a733a6-b1c8-4a8a-e186-97b45c52adeb"
      },
      "source": [
        "for i in train_samples[:5]:\n",
        "    print(i)"
      ],
      "execution_count": 4,
      "outputs": [
        {
          "output_type": "stream",
          "text": [
            "24\n",
            "89\n",
            "56\n",
            "67\n",
            "33\n"
          ],
          "name": "stdout"
        }
      ]
    },
    {
      "cell_type": "code",
      "metadata": {
        "colab": {
          "base_uri": "https://localhost:8080/"
        },
        "id": "1x2P_a5BrPvI",
        "outputId": "698db8e9-1f0e-4854-fead-90a7d3907907"
      },
      "source": [
        "for i in train_labels[:5]:\n",
        "    print(i)"
      ],
      "execution_count": 5,
      "outputs": [
        {
          "output_type": "stream",
          "text": [
            "1\n",
            "0\n",
            "1\n",
            "0\n",
            "1\n"
          ],
          "name": "stdout"
        }
      ]
    },
    {
      "cell_type": "code",
      "metadata": {
        "id": "hdJViUnVr2kl"
      },
      "source": [
        "train_labels = np.array(train_labels)\n",
        "train_samples = np.array(train_samples)\n",
        "train_labels, train_samples = shuffle(train_labels, train_samples)"
      ],
      "execution_count": 6,
      "outputs": []
    },
    {
      "cell_type": "code",
      "metadata": {
        "id": "DTlBc1-LsKC9"
      },
      "source": [
        "scaler = MinMaxScaler(feature_range=(0, 1))\n",
        "scaled_train_samples = scaler.fit_transform(train_samples.reshape(-1, 1))"
      ],
      "execution_count": 7,
      "outputs": []
    },
    {
      "cell_type": "code",
      "metadata": {
        "id": "F3uBOJL1v0Fe"
      },
      "source": [
        "import tensorflow as tf\n",
        "from tensorflow import keras\n",
        "from tensorflow.keras.models import Sequential\n",
        "from tensorflow.keras.layers import Activation, Dense\n",
        "from tensorflow.keras.optimizers import Adam\n",
        "from tensorflow.keras.metrics import categorical_crossentropy"
      ],
      "execution_count": 14,
      "outputs": []
    },
    {
      "cell_type": "code",
      "metadata": {
        "colab": {
          "base_uri": "https://localhost:8080/"
        },
        "id": "CCnxpuzkwHSd",
        "outputId": "17fe5c87-8a0c-49e7-9d87-05bebf9d77bc"
      },
      "source": [
        "physical_devices = tf.config.experimental.list_physical_devices('GPU')\n",
        "print(\"Num of GPUs available: \", len(physical_devices))\n",
        "tf.config.experimental.set_memory_growth(physical_devices[0], True)"
      ],
      "execution_count": 10,
      "outputs": [
        {
          "output_type": "stream",
          "text": [
            "Num of GPUs available:  1\n"
          ],
          "name": "stdout"
        }
      ]
    },
    {
      "cell_type": "code",
      "metadata": {
        "id": "fGHubUqqZBRs"
      },
      "source": [
        "model = Sequential([\n",
        "    Dense(units=16, input_shape=(1,), activation='relu'),\n",
        "    Dense(units=32, activation='relu'),\n",
        "    Dense(units=2, activation='softmax')\n",
        "])"
      ],
      "execution_count": 11,
      "outputs": []
    },
    {
      "cell_type": "code",
      "metadata": {
        "colab": {
          "base_uri": "https://localhost:8080/"
        },
        "id": "QVTAvkBnbnh9",
        "outputId": "4a6b1d64-b945-40be-c4fe-817b8484a03b"
      },
      "source": [
        "model.summary()"
      ],
      "execution_count": 12,
      "outputs": [
        {
          "output_type": "stream",
          "text": [
            "Model: \"sequential\"\n",
            "_________________________________________________________________\n",
            "Layer (type)                 Output Shape              Param #   \n",
            "=================================================================\n",
            "dense (Dense)                (None, 16)                32        \n",
            "_________________________________________________________________\n",
            "dense_1 (Dense)              (None, 32)                544       \n",
            "_________________________________________________________________\n",
            "dense_2 (Dense)              (None, 2)                 66        \n",
            "=================================================================\n",
            "Total params: 642\n",
            "Trainable params: 642\n",
            "Non-trainable params: 0\n",
            "_________________________________________________________________\n"
          ],
          "name": "stdout"
        }
      ]
    },
    {
      "cell_type": "code",
      "metadata": {
        "id": "rOE9nWysbpJE"
      },
      "source": [
        "model.compile(optimizer=Adam(learning_rate=0.0001), loss='sparse_categorical_crossentropy', metrics=['accuracy'])"
      ],
      "execution_count": 15,
      "outputs": []
    },
    {
      "cell_type": "code",
      "metadata": {
        "colab": {
          "base_uri": "https://localhost:8080/"
        },
        "id": "1JGRdgJMcGUA",
        "outputId": "48f9ea6a-1e59-4c8c-a407-e6b4667f5402"
      },
      "source": [
        "model.fit(x=scaled_train_samples, y=train_labels, validation_split=0.1, batch_size=10, epochs=30, shuffle=True, verbose=2)"
      ],
      "execution_count": 17,
      "outputs": [
        {
          "output_type": "stream",
          "text": [
            "Epoch 1/30\n",
            "189/189 - 0s - loss: 0.2754 - accuracy: 0.9386 - val_loss: 0.2078 - val_accuracy: 0.9571\n",
            "Epoch 2/30\n",
            "189/189 - 0s - loss: 0.2741 - accuracy: 0.9323 - val_loss: 0.2075 - val_accuracy: 0.9667\n",
            "Epoch 3/30\n",
            "189/189 - 0s - loss: 0.2729 - accuracy: 0.9413 - val_loss: 0.2056 - val_accuracy: 0.9667\n",
            "Epoch 4/30\n",
            "189/189 - 0s - loss: 0.2718 - accuracy: 0.9418 - val_loss: 0.2040 - val_accuracy: 0.9667\n",
            "Epoch 5/30\n",
            "189/189 - 0s - loss: 0.2711 - accuracy: 0.9413 - val_loss: 0.2021 - val_accuracy: 0.9667\n",
            "Epoch 6/30\n",
            "189/189 - 0s - loss: 0.2701 - accuracy: 0.9418 - val_loss: 0.2008 - val_accuracy: 0.9667\n",
            "Epoch 7/30\n",
            "189/189 - 0s - loss: 0.2694 - accuracy: 0.9418 - val_loss: 0.1999 - val_accuracy: 0.9667\n",
            "Epoch 8/30\n",
            "189/189 - 0s - loss: 0.2687 - accuracy: 0.9418 - val_loss: 0.1984 - val_accuracy: 0.9667\n",
            "Epoch 9/30\n",
            "189/189 - 0s - loss: 0.2681 - accuracy: 0.9418 - val_loss: 0.1970 - val_accuracy: 0.9667\n",
            "Epoch 10/30\n",
            "189/189 - 0s - loss: 0.2676 - accuracy: 0.9434 - val_loss: 0.1965 - val_accuracy: 0.9667\n",
            "Epoch 11/30\n",
            "189/189 - 0s - loss: 0.2672 - accuracy: 0.9418 - val_loss: 0.1959 - val_accuracy: 0.9667\n",
            "Epoch 12/30\n",
            "189/189 - 0s - loss: 0.2667 - accuracy: 0.9434 - val_loss: 0.1943 - val_accuracy: 0.9667\n",
            "Epoch 13/30\n",
            "189/189 - 0s - loss: 0.2662 - accuracy: 0.9429 - val_loss: 0.1942 - val_accuracy: 0.9667\n",
            "Epoch 14/30\n",
            "189/189 - 0s - loss: 0.2658 - accuracy: 0.9418 - val_loss: 0.1941 - val_accuracy: 0.9667\n",
            "Epoch 15/30\n",
            "189/189 - 0s - loss: 0.2654 - accuracy: 0.9418 - val_loss: 0.1930 - val_accuracy: 0.9667\n",
            "Epoch 16/30\n",
            "189/189 - 0s - loss: 0.2650 - accuracy: 0.9439 - val_loss: 0.1927 - val_accuracy: 0.9667\n",
            "Epoch 17/30\n",
            "189/189 - 0s - loss: 0.2646 - accuracy: 0.9418 - val_loss: 0.1920 - val_accuracy: 0.9667\n",
            "Epoch 18/30\n",
            "189/189 - 0s - loss: 0.2642 - accuracy: 0.9429 - val_loss: 0.1908 - val_accuracy: 0.9667\n",
            "Epoch 19/30\n",
            "189/189 - 0s - loss: 0.2639 - accuracy: 0.9429 - val_loss: 0.1896 - val_accuracy: 0.9667\n",
            "Epoch 20/30\n",
            "189/189 - 0s - loss: 0.2635 - accuracy: 0.9418 - val_loss: 0.1899 - val_accuracy: 0.9667\n",
            "Epoch 21/30\n",
            "189/189 - 0s - loss: 0.2631 - accuracy: 0.9418 - val_loss: 0.1904 - val_accuracy: 0.9667\n",
            "Epoch 22/30\n",
            "189/189 - 0s - loss: 0.2626 - accuracy: 0.9418 - val_loss: 0.1898 - val_accuracy: 0.9667\n",
            "Epoch 23/30\n",
            "189/189 - 0s - loss: 0.2623 - accuracy: 0.9429 - val_loss: 0.1892 - val_accuracy: 0.9667\n",
            "Epoch 24/30\n",
            "189/189 - 0s - loss: 0.2620 - accuracy: 0.9434 - val_loss: 0.1897 - val_accuracy: 0.9667\n",
            "Epoch 25/30\n",
            "189/189 - 0s - loss: 0.2613 - accuracy: 0.9418 - val_loss: 0.1884 - val_accuracy: 0.9667\n",
            "Epoch 26/30\n",
            "189/189 - 0s - loss: 0.2610 - accuracy: 0.9418 - val_loss: 0.1891 - val_accuracy: 0.9667\n",
            "Epoch 27/30\n",
            "189/189 - 0s - loss: 0.2607 - accuracy: 0.9423 - val_loss: 0.1888 - val_accuracy: 0.9667\n",
            "Epoch 28/30\n",
            "189/189 - 0s - loss: 0.2602 - accuracy: 0.9418 - val_loss: 0.1879 - val_accuracy: 0.9667\n",
            "Epoch 29/30\n",
            "189/189 - 0s - loss: 0.2597 - accuracy: 0.9450 - val_loss: 0.1870 - val_accuracy: 0.9667\n",
            "Epoch 30/30\n",
            "189/189 - 0s - loss: 0.2593 - accuracy: 0.9418 - val_loss: 0.1872 - val_accuracy: 0.9667\n"
          ],
          "name": "stdout"
        },
        {
          "output_type": "execute_result",
          "data": {
            "text/plain": [
              "<tensorflow.python.keras.callbacks.History at 0x7f72624eb810>"
            ]
          },
          "metadata": {
            "tags": []
          },
          "execution_count": 17
        }
      ]
    },
    {
      "cell_type": "markdown",
      "metadata": {
        "id": "uSGnBO3bpmnG"
      },
      "source": [
        "### Creating test data"
      ]
    },
    {
      "cell_type": "code",
      "metadata": {
        "id": "BG2U2b92c2qQ"
      },
      "source": [
        "test_labels = []\n",
        "test_samples = []"
      ],
      "execution_count": 18,
      "outputs": []
    },
    {
      "cell_type": "code",
      "metadata": {
        "id": "--e_xNZIptKI"
      },
      "source": [
        "for i in range(10):\n",
        "    # The ~5% of younger individuals who did experience side effects\n",
        "    random_younger = randint(13, 64)\n",
        "    test_samples.append(random_younger)\n",
        "    test_labels.append(1)\n",
        "\n",
        "    # The ~5% of older individuals who didn't experience side effects\n",
        "    random_older = randint(65, 100)\n",
        "    test_samples.append(random_older)\n",
        "    test_labels.append(0)\n",
        "\n",
        "for i in range(200):\n",
        "    # The ~95% of younger individuals who did experience side effects\n",
        "    random_younger = randint(13, 64)\n",
        "    test_samples.append(random_younger)\n",
        "    test_labels.append(0)\n",
        "\n",
        "    # The ~95% of older individuals who didn't experience side effects\n",
        "    random_older = randint(65, 100)\n",
        "    test_samples.append(random_older)\n",
        "    test_labels.append(1)"
      ],
      "execution_count": 19,
      "outputs": []
    },
    {
      "cell_type": "code",
      "metadata": {
        "id": "d17bNvwip4zg"
      },
      "source": [
        "test_labels = np.array(test_labels)\n",
        "test_samples = np.array(test_samples)\n",
        "test_labels, test_samples = shuffle(test_labels, test_samples)"
      ],
      "execution_count": 20,
      "outputs": []
    },
    {
      "cell_type": "code",
      "metadata": {
        "id": "Wn5qjzuEqgpl"
      },
      "source": [
        "scaled_test_samples = scaler.fit_transform(test_samples.reshape(-1, 1))"
      ],
      "execution_count": 21,
      "outputs": []
    },
    {
      "cell_type": "code",
      "metadata": {
        "id": "XaDrEQqkqqpQ"
      },
      "source": [
        "predictions = model.predict(x=scaled_test_samples, batch_size=10, verbose=0)"
      ],
      "execution_count": 27,
      "outputs": []
    },
    {
      "cell_type": "code",
      "metadata": {
        "colab": {
          "base_uri": "https://localhost:8080/"
        },
        "id": "fOaHJsFSqyas",
        "outputId": "00d63b4d-af6f-428d-956f-482e9667277b"
      },
      "source": [
        "for i in predictions[:5]:\n",
        "    print(i)  ## Probability of not experiencing side-effect, Probability of experiencing side-effect"
      ],
      "execution_count": 29,
      "outputs": [
        {
          "output_type": "stream",
          "text": [
            "[0.2907308 0.7092692]\n",
            "[0.19591035 0.8040896 ]\n",
            "[0.9573946  0.04260545]\n",
            "[0.0356436  0.96435636]\n",
            "[0.57981193 0.420188  ]\n"
          ],
          "name": "stdout"
        }
      ]
    },
    {
      "cell_type": "code",
      "metadata": {
        "id": "pI5SGlAjrHoQ"
      },
      "source": [
        "rounded_predictions = np.argmax(predictions, axis=1)"
      ],
      "execution_count": 30,
      "outputs": []
    },
    {
      "cell_type": "code",
      "metadata": {
        "colab": {
          "base_uri": "https://localhost:8080/"
        },
        "id": "pmJ0V9l7re2i",
        "outputId": "52bdaa66-2539-486a-d3f1-07fdadbf64a4"
      },
      "source": [
        "for i in rounded_predictions[:5]:\n",
        "    print(i)  ## 0 -> No side effect, 1 -> Side effect"
      ],
      "execution_count": 31,
      "outputs": [
        {
          "output_type": "stream",
          "text": [
            "1\n",
            "1\n",
            "0\n",
            "1\n",
            "0\n"
          ],
          "name": "stdout"
        }
      ]
    },
    {
      "cell_type": "markdown",
      "metadata": {
        "id": "66LeiVt5sC3P"
      },
      "source": [
        "### **Confusion matrix**"
      ]
    },
    {
      "cell_type": "code",
      "metadata": {
        "id": "NzoU9dudrioY"
      },
      "source": [
        "%matplotlib inline\n",
        "from sklearn.metrics import confusion_matrix\n",
        "import itertools\n",
        "import matplotlib.pyplot as plt"
      ],
      "execution_count": 32,
      "outputs": []
    },
    {
      "cell_type": "code",
      "metadata": {
        "id": "Zxa-sln1wACA"
      },
      "source": [
        "cm = confusion_matrix(y_true=test_labels, y_pred=rounded_predictions)"
      ],
      "execution_count": 33,
      "outputs": []
    },
    {
      "cell_type": "code",
      "metadata": {
        "id": "O--NwWrxwFO_"
      },
      "source": [
        "def plot_confusion_matrix(cm, classes, normalize=False, title='Confusion matrix', cmap=plt.cm.Blues):\n",
        "    \"\"\"\n",
        "    This function prints and plots the confusion matrix.\n",
        "    Normalization can be applied by setting `normalize=True`.\n",
        "    \"\"\"\n",
        "    plt.imshow(cm, interpolation='nearest', cmap=cmap)\n",
        "    plt.title(title)\n",
        "    plt.colorbar()\n",
        "    tick_marks = np.arange(len(classes))\n",
        "    plt.xticks(tick_marks, classes, rotation=45)\n",
        "    plt.yticks(tick_marks, classes)\n",
        "\n",
        "    if normalize:\n",
        "        cm = cm.astype('float') / cm.sum(axis=1)[:, np.newaxis]\n",
        "        print(\"Normalized confusion matrix\")\n",
        "    else:\n",
        "        print(\"Confusion matrix, without normalization\")\n",
        "    \n",
        "    print(cm)\n",
        "\n",
        "    thresh = cm.max() / 2.\n",
        "    for i, j in itertools.product(range(cm.shape[0]), range(cm.shape[1])):\n",
        "        plt.text(j, i, cm[i, j], horizontalalignment=\"center\", color=\"white\" if cm[i, j] > thresh else \"black\")\n",
        "        plt.tight_layout()\n",
        "        plt.ylabel(\"True label\")\n",
        "        plt.xlabel(\"Predicted label\")"
      ],
      "execution_count": 36,
      "outputs": []
    },
    {
      "cell_type": "code",
      "metadata": {
        "colab": {
          "base_uri": "https://localhost:8080/",
          "height": 347
        },
        "id": "miEqdGbNweqk",
        "outputId": "c7703e73-e378-4505-e2c7-3265039e92a8"
      },
      "source": [
        "cm_plot_labels = ['no side effects', 'had_side_effects']\n",
        "plot_confusion_matrix(cm=cm, classes=cm_plot_labels, title='Confusion Matrix')"
      ],
      "execution_count": 37,
      "outputs": [
        {
          "output_type": "stream",
          "text": [
            "Confusion matrix, without normalization\n",
            "[[198  12]\n",
            " [  9 201]]\n"
          ],
          "name": "stdout"
        },
        {
          "output_type": "display_data",
          "data": {
            "image/png": "[encoded data removed]",
            "text/plain": [
              "<Figure size 432x288 with 2 Axes>"
            ]
          },
          "metadata": {
            "tags": [],
            "needs_background": "light"
          }
        }
      ]
    },
    {
      "cell_type": "markdown",
      "metadata": {
        "id": "F04gd3PFzpOH"
      },
      "source": [
        "## Saving and loading the model\n",
        "\n",
        "\n",
        "### **1. model.save()**\n",
        "\n",
        "This save function saves in h5 format the following:\n",
        "\n",
        "* Architecture\n",
        "* Weights\n",
        "* Training config (loss, optimizer)\n",
        "* State of the optimizer, allowing to resume training exactly where you left off."
      ]
    },
    {
      "cell_type": "code",
      "metadata": {
        "id": "DTJLL7OKyYH9"
      },
      "source": [
        "## Checks if file is there already\n",
        "## If not, the model is saved to disk\n",
        "import os\n",
        "if os.path.isfile('models/medical_trial_model.h5') is False:\n",
        "    model.save('models/medical_trial_model.h5')"
      ],
      "execution_count": 38,
      "outputs": []
    },
    {
      "cell_type": "code",
      "metadata": {
        "id": "1bO7wbkI0Dt0"
      },
      "source": [
        "## Loading the model\n",
        "from tensorflow.keras.models import load_model\n",
        "new_model = load_model('models/medical_trial_model.h5')"
      ],
      "execution_count": 39,
      "outputs": []
    },
    {
      "cell_type": "code",
      "metadata": {
        "colab": {
          "base_uri": "https://localhost:8080/"
        },
        "id": "FRo0YCFU1bwJ",
        "outputId": "1561902c-5b98-4e20-f941-c032a4d33c1f"
      },
      "source": [
        "new_model.summary()"
      ],
      "execution_count": 41,
      "outputs": [
        {
          "output_type": "stream",
          "text": [
            "Model: \"sequential\"\n",
            "_________________________________________________________________\n",
            "Layer (type)                 Output Shape              Param #   \n",
            "=================================================================\n",
            "dense (Dense)                (None, 16)                32        \n",
            "_________________________________________________________________\n",
            "dense_1 (Dense)              (None, 32)                544       \n",
            "_________________________________________________________________\n",
            "dense_2 (Dense)              (None, 2)                 66        \n",
            "=================================================================\n",
            "Total params: 642\n",
            "Trainable params: 642\n",
            "Non-trainable params: 0\n",
            "_________________________________________________________________\n"
          ],
          "name": "stdout"
        }
      ]
    },
    {
      "cell_type": "code",
      "metadata": {
        "colab": {
          "base_uri": "https://localhost:8080/"
        },
        "id": "85O9XqgH1d-a",
        "outputId": "ef5d4735-d8bd-4d38-d97c-1b00435ffef6"
      },
      "source": [
        "new_model.get_weights()"
      ],
      "execution_count": 42,
      "outputs": [
        {
          "output_type": "execute_result",
          "data": {
            "text/plain": [
              "[array([[-0.07050419, -0.0042389 , -0.39922562, -0.40517217,  0.3237866 ,\n",
              "          0.6556205 , -0.13343418, -0.12454516,  0.510777  , -0.3465883 ,\n",
              "          0.4403035 , -0.22554025, -0.5910816 , -0.56005716, -0.14129913,\n",
              "          0.7582243 ]], dtype=float32),\n",
              " array([ 0.        ,  0.        ,  0.        ,  0.        , -0.12907149,\n",
              "        -0.07262778,  0.        ,  0.        , -0.14786878,  0.        ,\n",
              "        -0.13719927,  0.        ,  0.        ,  0.        ,  0.        ,\n",
              "        -0.17667487], dtype=float32),\n",
              " array([[ 2.61015445e-01,  2.79049903e-01,  2.67762631e-01,\n",
              "         -2.29403675e-02, -2.72208869e-01, -1.69315189e-01,\n",
              "         -2.05040291e-01, -2.52682865e-02, -3.08850408e-02,\n",
              "          1.88576549e-01, -2.02680066e-01,  2.90476412e-01,\n",
              "         -2.44962037e-01,  1.29767269e-01,  3.21436554e-01,\n",
              "         -3.08068603e-01,  3.56512666e-02,  2.08084613e-01,\n",
              "          1.91516906e-01,  1.08353466e-01, -3.05000961e-01,\n",
              "         -2.15860814e-01,  2.31220752e-01, -3.04524213e-01,\n",
              "         -2.97583967e-01, -9.29166973e-02, -8.80560577e-02,\n",
              "          1.34105802e-01, -1.48199692e-01, -2.89440036e-01,\n",
              "         -2.28225857e-01, -1.48731172e-02],\n",
              "        [ 2.44874209e-01, -7.08674788e-02,  2.58579850e-03,\n",
              "         -2.06939667e-01,  2.54830807e-01,  2.43488222e-01,\n",
              "          3.49591166e-01, -3.08333874e-01,  5.54584265e-02,\n",
              "          1.25033587e-01,  2.81836241e-01,  3.03874642e-01,\n",
              "          3.67469192e-02,  5.36804199e-02,  2.19664723e-01,\n",
              "         -2.11950853e-01,  1.86871797e-01, -1.90579116e-01,\n",
              "          2.93040365e-01,  2.70870298e-01,  4.48436439e-02,\n",
              "          2.93026894e-01,  1.72019333e-01,  2.14993626e-01,\n",
              "         -2.51881868e-01, -1.91935644e-01,  3.17799896e-01,\n",
              "         -2.18867987e-01,  2.66024083e-01,  2.80023009e-01,\n",
              "          2.00952739e-01,  9.20729935e-02],\n",
              "        [-2.42578685e-02, -3.13455790e-01,  1.18478507e-01,\n",
              "          2.76902407e-01, -9.62280929e-02,  3.23976487e-01,\n",
              "         -8.46019685e-02,  1.18970573e-02,  2.01207787e-01,\n",
              "         -1.25910595e-01,  2.62348205e-01,  1.47310287e-01,\n",
              "          9.72687602e-02,  1.07764095e-01, -6.14495277e-02,\n",
              "          2.37840414e-02,  1.55311495e-01,  5.53001165e-02,\n",
              "         -2.13863254e-02,  9.68736410e-03, -3.39953870e-01,\n",
              "          6.52872324e-02, -1.31555483e-01, -1.58174008e-01,\n",
              "          7.18555748e-02,  3.81498933e-02, -7.93922842e-02,\n",
              "         -3.03058684e-01, -5.91160953e-02,  2.98391849e-01,\n",
              "          2.27451116e-01,  1.69715554e-01],\n",
              "        [-2.52715111e-01,  1.59573585e-01, -3.26670766e-01,\n",
              "         -6.98634982e-03,  3.11066598e-01,  2.19295293e-01,\n",
              "         -3.07382047e-02, -2.71153420e-01, -6.73830509e-04,\n",
              "          1.17642134e-01, -5.77179193e-02,  2.45968431e-01,\n",
              "          1.51768595e-01,  2.03500837e-01, -3.51681650e-01,\n",
              "          3.20122093e-01,  3.40678364e-01, -3.22827101e-02,\n",
              "         -1.89951658e-02, -1.57849133e-01, -8.30692351e-02,\n",
              "          2.73376614e-01,  1.27237618e-01,  3.47034544e-01,\n",
              "         -1.13570839e-01, -2.12261900e-01,  1.51112288e-01,\n",
              "          1.07760727e-01,  2.13909894e-01, -2.07967043e-01,\n",
              "          2.50884742e-01,  3.11145186e-03],\n",
              "        [-7.19081640e-01,  9.01478529e-03,  3.16185981e-01,\n",
              "          9.60644782e-02,  1.92790121e-01, -3.21778953e-01,\n",
              "          1.23622186e-01,  5.71207523e-01, -3.42128545e-01,\n",
              "         -3.19448590e-01,  2.47109026e-01, -2.46050060e-02,\n",
              "         -2.65048534e-01, -6.63675964e-01, -4.96167153e-01,\n",
              "          2.26694077e-01, -1.64374441e-01,  1.88842654e-01,\n",
              "          5.25022745e-01, -1.89539939e-01, -3.64059508e-02,\n",
              "          5.51887751e-01, -1.85387626e-01,  4.59169149e-01,\n",
              "          2.84189731e-01,  5.05859673e-01, -2.19571859e-01,\n",
              "          4.57395524e-01,  4.91316497e-01,  2.39002585e-01,\n",
              "          1.11957103e-01, -4.63908076e-01],\n",
              "        [ 7.46494904e-02, -3.54257822e-02,  2.31172666e-01,\n",
              "         -1.93187580e-01, -5.86189926e-02,  1.86029211e-01,\n",
              "          3.85122240e-01,  5.60423970e-01, -1.04651973e-01,\n",
              "          1.27701834e-01, -9.18588117e-02,  4.21870202e-02,\n",
              "         -1.03244290e-01, -7.04285875e-02,  3.01306061e-02,\n",
              "         -1.72366619e-01, -2.78431773e-01,  2.26141602e-01,\n",
              "          3.85803193e-01, -5.50158024e-02, -1.67489797e-01,\n",
              "          3.99473935e-01, -3.38375717e-01, -1.27809137e-01,\n",
              "         -9.90172625e-02,  4.93937761e-01, -1.45219818e-01,\n",
              "          1.27384558e-01,  3.63228172e-01,  1.42087579e-01,\n",
              "         -1.69436067e-01, -6.25130236e-02],\n",
              "        [ 1.53259665e-01,  2.48939008e-01,  3.36020887e-02,\n",
              "         -2.80575871e-01,  3.18601340e-01,  3.11368376e-01,\n",
              "         -8.41474533e-02,  1.59976453e-01, -2.83851862e-01,\n",
              "         -2.89132595e-01, -1.59032643e-02, -5.14291823e-02,\n",
              "         -3.20032060e-01, -3.41498047e-01, -2.66451538e-01,\n",
              "         -9.70706046e-02, -6.69296086e-02, -1.95802703e-01,\n",
              "         -2.05888703e-01, -6.66114092e-02,  3.00366193e-01,\n",
              "          2.36918956e-01, -2.26245224e-02,  1.61328465e-01,\n",
              "          3.23655903e-02, -1.01193309e-01, -1.01800233e-01,\n",
              "         -1.82416275e-01, -3.14613312e-01,  8.11154842e-02,\n",
              "         -1.04447469e-01, -1.46640092e-01],\n",
              "        [-3.04968685e-01,  1.90314502e-01,  3.08976203e-01,\n",
              "          2.34656960e-01,  1.69580191e-01,  4.12733853e-02,\n",
              "          2.65271932e-01, -1.46218792e-01, -8.98550451e-02,\n",
              "          2.47292429e-01, -2.23504320e-01, -2.98420250e-01,\n",
              "          1.92238539e-01,  3.82897258e-02, -9.35044885e-03,\n",
              "          1.57538086e-01, -1.96785316e-01,  2.17749864e-01,\n",
              "         -2.39828795e-01,  1.35700613e-01, -1.70788169e-03,\n",
              "         -3.10595304e-01, -2.01455355e-01,  7.62842000e-02,\n",
              "          3.76906693e-02, -1.80328667e-01,  3.25081319e-01,\n",
              "         -3.43746752e-01, -2.76945084e-01,  2.81672627e-01,\n",
              "         -1.11420840e-01,  2.81589240e-01],\n",
              "        [-3.29657346e-01, -2.67066360e-01, -6.81717619e-02,\n",
              "          8.17350447e-02,  2.18045637e-01, -2.57306129e-01,\n",
              "          3.72656107e-01,  4.68537033e-01, -2.71939218e-01,\n",
              "         -4.33290690e-01,  5.59743643e-01,  1.75777122e-01,\n",
              "         -7.35922083e-02,  1.97548773e-02,  8.94058123e-02,\n",
              "         -2.48589441e-01,  2.98694760e-01,  2.93070197e-01,\n",
              "         -5.69977388e-02,  2.70764500e-01,  2.26861745e-01,\n",
              "          5.57594121e-01,  9.33748186e-02,  2.73936450e-01,\n",
              "         -3.33999366e-01,  4.02929932e-01, -4.24555689e-01,\n",
              "          5.21647871e-01,  6.00454628e-01,  4.67332840e-01,\n",
              "         -1.54996037e-01, -3.63492787e-01],\n",
              "        [ 6.30487204e-02, -5.66656888e-02, -2.70643532e-01,\n",
              "         -3.42729330e-01, -8.65235925e-02, -2.01941565e-01,\n",
              "         -2.24317238e-01, -1.44248173e-01, -3.36350888e-01,\n",
              "         -3.30488443e-01,  5.73653877e-02, -7.45114684e-03,\n",
              "          1.84183419e-02, -2.78718770e-02, -1.79908544e-01,\n",
              "          5.33991158e-02,  1.46583050e-01,  1.27207041e-01,\n",
              "          2.82677323e-01, -2.33555913e-01, -1.45225063e-01,\n",
              "         -2.94905454e-01,  1.53970718e-02, -2.20928967e-01,\n",
              "          5.64288199e-02, -5.94932139e-02, -4.84190583e-02,\n",
              "          2.09581524e-01, -8.92843008e-02, -1.42636061e-01,\n",
              "          2.90708452e-01,  2.18002349e-01],\n",
              "        [-4.06950623e-01,  1.99722797e-01, -2.96868756e-02,\n",
              "         -3.30406934e-01,  5.41483521e-01,  7.73773566e-02,\n",
              "          2.10348479e-02,  6.50915027e-01, -4.09626067e-02,\n",
              "         -2.15689749e-01,  4.14949208e-01, -2.98053890e-01,\n",
              "         -1.80959985e-01, -9.25831869e-02, -2.18435436e-01,\n",
              "          7.86660910e-02, -2.47866437e-01,  4.25448298e-01,\n",
              "          4.25098747e-01, -1.91515610e-01, -2.55325437e-01,\n",
              "          4.78258282e-01, -4.93896008e-02,  5.84577262e-01,\n",
              "          1.07319623e-01,  5.74166358e-01, -5.40795743e-01,\n",
              "          9.41191465e-02,  3.39254200e-01,  5.24552047e-01,\n",
              "         -1.62286356e-01,  9.19467360e-02],\n",
              "        [-3.36702317e-01,  2.59428322e-02,  3.41444284e-01,\n",
              "         -1.35968760e-01, -1.08041167e-01, -3.25963557e-01,\n",
              "         -2.10615218e-01, -1.01242721e-01,  1.07554555e-01,\n",
              "          9.12180841e-02, -2.79349387e-01,  2.57936686e-01,\n",
              "          1.96146637e-01, -2.68368602e-01,  1.11761123e-01,\n",
              "         -3.39649469e-01, -2.07945630e-01, -3.08668941e-01,\n",
              "         -3.20451766e-01,  5.94019294e-02, -9.70418453e-02,\n",
              "          2.65399516e-02, -1.83354631e-01,  2.69967943e-01,\n",
              "         -2.06290692e-01, -2.03555450e-01,  7.16766715e-03,\n",
              "         -7.23222196e-02,  1.97591931e-01,  5.01872003e-02,\n",
              "          2.10310489e-01, -1.78112835e-01],\n",
              "        [ 7.15175569e-02, -1.61584854e-01, -1.21059239e-01,\n",
              "         -2.27371201e-01,  3.96358371e-02, -6.48126602e-02,\n",
              "          9.58193541e-02, -1.53801441e-01,  3.11970204e-01,\n",
              "          1.52867228e-01, -9.83604789e-03,  2.88812608e-01,\n",
              "          2.23524362e-01,  2.01779991e-01,  3.49443883e-01,\n",
              "         -3.20165664e-01, -2.88078785e-02,  2.88035542e-01,\n",
              "         -9.69245136e-02, -9.71601307e-02, -2.98637062e-01,\n",
              "          1.90572768e-01,  3.42565030e-01,  2.21431464e-01,\n",
              "         -1.19256616e-01, -2.54524946e-02, -8.09455514e-02,\n",
              "          1.12881899e-01, -1.18986532e-01,  9.68756974e-02,\n",
              "          2.08218485e-01, -1.62855089e-01],\n",
              "        [ 3.49230438e-01,  4.60932255e-02,  1.12723440e-01,\n",
              "         -2.49980792e-01, -3.02924573e-01,  2.83567637e-01,\n",
              "         -2.96478957e-01, -1.37213692e-01,  3.37354928e-01,\n",
              "         -1.57493919e-01, -2.31583446e-01,  2.51831263e-01,\n",
              "          3.16065282e-01, -2.87270963e-01,  2.41358668e-01,\n",
              "          3.52739722e-01,  3.05611998e-01, -2.23741859e-01,\n",
              "          1.76481158e-01, -9.21173394e-02,  1.84035391e-01,\n",
              "          1.30245984e-01,  1.61803931e-01, -4.43722010e-02,\n",
              "         -4.75625396e-02, -2.15819255e-01,  1.21076852e-01,\n",
              "          4.88578081e-02,  1.04647279e-02, -1.91307321e-01,\n",
              "          3.46413940e-01, -1.44594908e-02],\n",
              "        [ 1.56034976e-01,  9.24108326e-02,  1.79404527e-01,\n",
              "          2.91219145e-01, -2.56405592e-01,  2.56477147e-01,\n",
              "         -1.90834105e-01,  1.10946506e-01,  3.15803140e-01,\n",
              "         -3.33121121e-02, -2.66969025e-01, -2.03323364e-03,\n",
              "          2.01580018e-01, -8.20579827e-02, -1.02154016e-01,\n",
              "          5.16810417e-02, -1.14572942e-02,  9.98251438e-02,\n",
              "         -6.58220947e-02, -2.11872965e-01,  3.22652251e-01,\n",
              "         -4.85004783e-02, -3.31273288e-01, -2.75733441e-01,\n",
              "          1.37911558e-01,  2.92207599e-02, -3.21423233e-01,\n",
              "          1.59034818e-01, -3.33410978e-01, -6.57311380e-02,\n",
              "         -1.02741301e-01,  1.92783386e-01],\n",
              "        [-1.90933168e-01, -2.14371175e-01,  5.44490635e-01,\n",
              "         -1.19368389e-01,  4.79052424e-01, -2.70430565e-01,\n",
              "          5.25569677e-01,  5.28764864e-03, -1.41175836e-01,\n",
              "          6.48107380e-02,  5.25018573e-01, -1.12276331e-01,\n",
              "         -4.47585285e-01, -2.68630475e-01,  8.67949650e-02,\n",
              "         -1.66026801e-01,  1.37673914e-01,  2.64619619e-01,\n",
              "          5.05556464e-01, -3.28999132e-01, -3.28861654e-01,\n",
              "          3.87654477e-03, -5.54963648e-02,  4.91089046e-01,\n",
              "         -8.50802362e-02, -1.26954079e-01, -1.18653234e-02,\n",
              "          3.00085366e-01, -5.37271574e-02,  3.27638119e-01,\n",
              "         -4.54568863e-02, -4.12946910e-01]], dtype=float32),\n",
              " array([ 0.28318655,  0.        , -0.11372589,  0.        , -0.09614971,\n",
              "         0.30276135, -0.15928726, -0.16284318,  0.        ,  0.30486268,\n",
              "        -0.10922554, -0.00383475,  0.31593654,  0.3594152 ,  0.29070225,\n",
              "         0.        , -0.00051252, -0.1189251 , -0.1490209 ,  0.        ,\n",
              "         0.        , -0.13482173,  0.        , -0.09232301,  0.        ,\n",
              "        -0.13115364,  0.26299196, -0.10704821, -0.12134764, -0.12484326,\n",
              "         0.        ,  0.38071147], dtype=float32),\n",
              " array([[ 0.865595  , -0.7339867 ],\n",
              "        [-0.4164657 ,  0.10766342],\n",
              "        [-0.64112264,  0.76022   ],\n",
              "        [ 0.281316  , -0.27849144],\n",
              "        [-0.63173664,  0.59389496],\n",
              "        [-0.00728624, -0.49909142],\n",
              "        [-0.51948065, -0.01338572],\n",
              "        [-0.70908034, -0.06816202],\n",
              "        [ 0.17952445,  0.41329286],\n",
              "        [ 0.24370559, -0.5023875 ],\n",
              "        [-0.6659993 ,  0.66603404],\n",
              "        [-0.24452806,  0.0962775 ],\n",
              "        [ 0.90144247, -0.8628522 ],\n",
              "        [ 0.27116415, -0.5625938 ],\n",
              "        [ 0.2790297 , -0.12880656],\n",
              "        [-0.21293582, -0.3733343 ],\n",
              "        [-0.17828895,  0.10782458],\n",
              "        [-0.54386526,  0.5130705 ],\n",
              "        [-0.6122973 ,  0.12783358],\n",
              "        [-0.07668301,  0.40222064],\n",
              "        [ 0.09493771, -0.32549214],\n",
              "        [-0.7298619 ,  0.14599776],\n",
              "        [-0.11527675,  0.14389881],\n",
              "        [-0.263386  ,  0.36816   ],\n",
              "        [ 0.05820507,  0.22781608],\n",
              "        [-0.6851359 ,  0.63972026],\n",
              "        [ 0.69620574, -0.41141418],\n",
              "        [-0.7233928 ,  0.4818916 ],\n",
              "        [-0.5608509 ,  0.44480503],\n",
              "        [-0.54315066,  0.32324034],\n",
              "        [ 0.05474669,  0.34257314],\n",
              "        [ 0.7724967 , -0.49861252]], dtype=float32),\n",
              " array([ 0.2723771 , -0.27237713], dtype=float32)]"
            ]
          },
          "metadata": {
            "tags": []
          },
          "execution_count": 42
        }
      ]
    },
    {
      "cell_type": "code",
      "metadata": {
        "colab": {
          "base_uri": "https://localhost:8080/"
        },
        "id": "fBjts7OZ1huw",
        "outputId": "f8ce0f1b-8b5a-4c70-c5de-3efb6fbbc666"
      },
      "source": [
        "new_model.optimizer"
      ],
      "execution_count": 43,
      "outputs": [
        {
          "output_type": "execute_result",
          "data": {
            "text/plain": [
              "<tensorflow.python.keras.optimizer_v2.adam.Adam at 0x7f7243259410>"
            ]
          },
          "metadata": {
            "tags": []
          },
          "execution_count": 43
        }
      ]
    },
    {
      "cell_type": "markdown",
      "metadata": {
        "id": "eXtNGfdk1rfP"
      },
      "source": [
        "### **2. model.to_json()**\n",
        "\n",
        "If you only need to save the architecture of the model and nothing else, then use this function"
      ]
    },
    {
      "cell_type": "code",
      "metadata": {
        "colab": {
          "base_uri": "https://localhost:8080/",
          "height": 137
        },
        "id": "-WxEoouX1q0s",
        "outputId": "f1d799f0-f7d3-44f8-b08d-a1f9c089f445"
      },
      "source": [
        "# save as JSON\n",
        "json_string = model.to_json()\n",
        "json_string"
      ],
      "execution_count": 44,
      "outputs": [
        {
          "output_type": "execute_result",
          "data": {
            "application/vnd.google.colaboratory.intrinsic+json": {
              "type": "string"
            },
            "text/plain": [
              "'{\"class_name\": \"Sequential\", \"config\": {\"name\": \"sequential\", \"layers\": [{\"class_name\": \"InputLayer\", \"config\": {\"batch_input_shape\": [null, 1], \"dtype\": \"float32\", \"sparse\": false, \"ragged\": false, \"name\": \"dense_input\"}}, {\"class_name\": \"Dense\", \"config\": {\"name\": \"dense\", \"trainable\": true, \"batch_input_shape\": [null, 1], \"dtype\": \"float32\", \"units\": 16, \"activation\": \"relu\", \"use_bias\": true, \"kernel_initializer\": {\"class_name\": \"GlorotUniform\", \"config\": {\"seed\": null}}, \"bias_initializer\": {\"class_name\": \"Zeros\", \"config\": {}}, \"kernel_regularizer\": null, \"bias_regularizer\": null, \"activity_regularizer\": null, \"kernel_constraint\": null, \"bias_constraint\": null}}, {\"class_name\": \"Dense\", \"config\": {\"name\": \"dense_1\", \"trainable\": true, \"dtype\": \"float32\", \"units\": 32, \"activation\": \"relu\", \"use_bias\": true, \"kernel_initializer\": {\"class_name\": \"GlorotUniform\", \"config\": {\"seed\": null}}, \"bias_initializer\": {\"class_name\": \"Zeros\", \"config\": {}}, \"kernel_regularizer\": null, \"bias_regularizer\": null, \"activity_regularizer\": null, \"kernel_constraint\": null, \"bias_constraint\": null}}, {\"class_name\": \"Dense\", \"config\": {\"name\": \"dense_2\", \"trainable\": true, \"dtype\": \"float32\", \"units\": 2, \"activation\": \"softmax\", \"use_bias\": true, \"kernel_initializer\": {\"class_name\": \"GlorotUniform\", \"config\": {\"seed\": null}}, \"bias_initializer\": {\"class_name\": \"Zeros\", \"config\": {}}, \"kernel_regularizer\": null, \"bias_regularizer\": null, \"activity_regularizer\": null, \"kernel_constraint\": null, \"bias_constraint\": null}}]}, \"keras_version\": \"2.4.0\", \"backend\": \"tensorflow\"}'"
            ]
          },
          "metadata": {
            "tags": []
          },
          "execution_count": 44
        }
      ]
    },
    {
      "cell_type": "code",
      "metadata": {
        "id": "ima53_Jp1khZ"
      },
      "source": [
        "# Model reconstruction from JSON\n",
        "from tensorflow.keras.models import model_from_json\n",
        "model_architecture = model_from_json(json_string) ## Only architecture without weights / optimizers"
      ],
      "execution_count": 45,
      "outputs": []
    },
    {
      "cell_type": "code",
      "metadata": {
        "colab": {
          "base_uri": "https://localhost:8080/"
        },
        "id": "xXWAwRT5-nxQ",
        "outputId": "5ae03e07-cb21-4123-8a6e-8ee6cd1c16d9"
      },
      "source": [
        "model_architecture.summary()"
      ],
      "execution_count": 47,
      "outputs": [
        {
          "output_type": "stream",
          "text": [
            "Model: \"sequential\"\n",
            "_________________________________________________________________\n",
            "Layer (type)                 Output Shape              Param #   \n",
            "=================================================================\n",
            "dense (Dense)                (None, 16)                32        \n",
            "_________________________________________________________________\n",
            "dense_1 (Dense)              (None, 32)                544       \n",
            "_________________________________________________________________\n",
            "dense_2 (Dense)              (None, 2)                 66        \n",
            "=================================================================\n",
            "Total params: 642\n",
            "Trainable params: 642\n",
            "Non-trainable params: 0\n",
            "_________________________________________________________________\n"
          ],
          "name": "stdout"
        }
      ]
    },
    {
      "cell_type": "markdown",
      "metadata": {
        "id": "lOuCPDWJ_2fH"
      },
      "source": [
        "### **2. model.save_weights()**\n",
        "\n",
        "If you only need to save the weights of the model and nothing else, then use this function"
      ]
    },
    {
      "cell_type": "code",
      "metadata": {
        "id": "dQlBt7tD_11f"
      },
      "source": [
        "## Checks if file is there already\n",
        "## If not, the model is saved to disk\n",
        "import os\n",
        "if os.path.isfile('models/my_model_weights.h5') is False:\n",
        "    model.save_weights('models/my_model_weights.h5')"
      ],
      "execution_count": 49,
      "outputs": []
    },
    {
      "cell_type": "code",
      "metadata": {
        "id": "d_0AC0t1-pmK"
      },
      "source": [
        "model2 = Sequential([\n",
        "    Dense(units=16, input_shape=(1,), activation='relu'),\n",
        "    Dense(units=32, activation='relu'),\n",
        "    Dense(units=2, activation='softmax')\n",
        "])"
      ],
      "execution_count": 50,
      "outputs": []
    },
    {
      "cell_type": "code",
      "metadata": {
        "id": "eWKUmVhEFapi"
      },
      "source": [
        "model2.load_weights('models/my_model_weights.h5')"
      ],
      "execution_count": 51,
      "outputs": []
    },
    {
      "cell_type": "code",
      "metadata": {
        "colab": {
          "base_uri": "https://localhost:8080/"
        },
        "id": "IdEbjHUmFekQ",
        "outputId": "54db8968-b32a-4c64-bdda-683481315d24"
      },
      "source": [
        "model2.get_weights()"
      ],
      "execution_count": 52,
      "outputs": [
        {
          "output_type": "execute_result",
          "data": {
            "text/plain": [
              "[array([[-0.07050419, -0.0042389 , -0.39922562, -0.40517217,  0.3237866 ,\n",
              "          0.6556205 , -0.13343418, -0.12454516,  0.510777  , -0.3465883 ,\n",
              "          0.4403035 , -0.22554025, -0.5910816 , -0.56005716, -0.14129913,\n",
              "          0.7582243 ]], dtype=float32),\n",
              " array([ 0.        ,  0.        ,  0.        ,  0.        , -0.12907149,\n",
              "        -0.07262778,  0.        ,  0.        , -0.14786878,  0.        ,\n",
              "        -0.13719927,  0.        ,  0.        ,  0.        ,  0.        ,\n",
              "        -0.17667487], dtype=float32),\n",
              " array([[ 2.61015445e-01,  2.79049903e-01,  2.67762631e-01,\n",
              "         -2.29403675e-02, -2.72208869e-01, -1.69315189e-01,\n",
              "         -2.05040291e-01, -2.52682865e-02, -3.08850408e-02,\n",
              "          1.88576549e-01, -2.02680066e-01,  2.90476412e-01,\n",
              "         -2.44962037e-01,  1.29767269e-01,  3.21436554e-01,\n",
              "         -3.08068603e-01,  3.56512666e-02,  2.08084613e-01,\n",
              "          1.91516906e-01,  1.08353466e-01, -3.05000961e-01,\n",
              "         -2.15860814e-01,  2.31220752e-01, -3.04524213e-01,\n",
              "         -2.97583967e-01, -9.29166973e-02, -8.80560577e-02,\n",
              "          1.34105802e-01, -1.48199692e-01, -2.89440036e-01,\n",
              "         -2.28225857e-01, -1.48731172e-02],\n",
              "        [ 2.44874209e-01, -7.08674788e-02,  2.58579850e-03,\n",
              "         -2.06939667e-01,  2.54830807e-01,  2.43488222e-01,\n",
              "          3.49591166e-01, -3.08333874e-01,  5.54584265e-02,\n",
              "          1.25033587e-01,  2.81836241e-01,  3.03874642e-01,\n",
              "          3.67469192e-02,  5.36804199e-02,  2.19664723e-01,\n",
              "         -2.11950853e-01,  1.86871797e-01, -1.90579116e-01,\n",
              "          2.93040365e-01,  2.70870298e-01,  4.48436439e-02,\n",
              "          2.93026894e-01,  1.72019333e-01,  2.14993626e-01,\n",
              "         -2.51881868e-01, -1.91935644e-01,  3.17799896e-01,\n",
              "         -2.18867987e-01,  2.66024083e-01,  2.80023009e-01,\n",
              "          2.00952739e-01,  9.20729935e-02],\n",
              "        [-2.42578685e-02, -3.13455790e-01,  1.18478507e-01,\n",
              "          2.76902407e-01, -9.62280929e-02,  3.23976487e-01,\n",
              "         -8.46019685e-02,  1.18970573e-02,  2.01207787e-01,\n",
              "         -1.25910595e-01,  2.62348205e-01,  1.47310287e-01,\n",
              "          9.72687602e-02,  1.07764095e-01, -6.14495277e-02,\n",
              "          2.37840414e-02,  1.55311495e-01,  5.53001165e-02,\n",
              "         -2.13863254e-02,  9.68736410e-03, -3.39953870e-01,\n",
              "          6.52872324e-02, -1.31555483e-01, -1.58174008e-01,\n",
              "          7.18555748e-02,  3.81498933e-02, -7.93922842e-02,\n",
              "         -3.03058684e-01, -5.91160953e-02,  2.98391849e-01,\n",
              "          2.27451116e-01,  1.69715554e-01],\n",
              "        [-2.52715111e-01,  1.59573585e-01, -3.26670766e-01,\n",
              "         -6.98634982e-03,  3.11066598e-01,  2.19295293e-01,\n",
              "         -3.07382047e-02, -2.71153420e-01, -6.73830509e-04,\n",
              "          1.17642134e-01, -5.77179193e-02,  2.45968431e-01,\n",
              "          1.51768595e-01,  2.03500837e-01, -3.51681650e-01,\n",
              "          3.20122093e-01,  3.40678364e-01, -3.22827101e-02,\n",
              "         -1.89951658e-02, -1.57849133e-01, -8.30692351e-02,\n",
              "          2.73376614e-01,  1.27237618e-01,  3.47034544e-01,\n",
              "         -1.13570839e-01, -2.12261900e-01,  1.51112288e-01,\n",
              "          1.07760727e-01,  2.13909894e-01, -2.07967043e-01,\n",
              "          2.50884742e-01,  3.11145186e-03],\n",
              "        [-7.19081640e-01,  9.01478529e-03,  3.16185981e-01,\n",
              "          9.60644782e-02,  1.92790121e-01, -3.21778953e-01,\n",
              "          1.23622186e-01,  5.71207523e-01, -3.42128545e-01,\n",
              "         -3.19448590e-01,  2.47109026e-01, -2.46050060e-02,\n",
              "         -2.65048534e-01, -6.63675964e-01, -4.96167153e-01,\n",
              "          2.26694077e-01, -1.64374441e-01,  1.88842654e-01,\n",
              "          5.25022745e-01, -1.89539939e-01, -3.64059508e-02,\n",
              "          5.51887751e-01, -1.85387626e-01,  4.59169149e-01,\n",
              "          2.84189731e-01,  5.05859673e-01, -2.19571859e-01,\n",
              "          4.57395524e-01,  4.91316497e-01,  2.39002585e-01,\n",
              "          1.11957103e-01, -4.63908076e-01],\n",
              "        [ 7.46494904e-02, -3.54257822e-02,  2.31172666e-01,\n",
              "         -1.93187580e-01, -5.86189926e-02,  1.86029211e-01,\n",
              "          3.85122240e-01,  5.60423970e-01, -1.04651973e-01,\n",
              "          1.27701834e-01, -9.18588117e-02,  4.21870202e-02,\n",
              "         -1.03244290e-01, -7.04285875e-02,  3.01306061e-02,\n",
              "         -1.72366619e-01, -2.78431773e-01,  2.26141602e-01,\n",
              "          3.85803193e-01, -5.50158024e-02, -1.67489797e-01,\n",
              "          3.99473935e-01, -3.38375717e-01, -1.27809137e-01,\n",
              "         -9.90172625e-02,  4.93937761e-01, -1.45219818e-01,\n",
              "          1.27384558e-01,  3.63228172e-01,  1.42087579e-01,\n",
              "         -1.69436067e-01, -6.25130236e-02],\n",
              "        [ 1.53259665e-01,  2.48939008e-01,  3.36020887e-02,\n",
              "         -2.80575871e-01,  3.18601340e-01,  3.11368376e-01,\n",
              "         -8.41474533e-02,  1.59976453e-01, -2.83851862e-01,\n",
              "         -2.89132595e-01, -1.59032643e-02, -5.14291823e-02,\n",
              "         -3.20032060e-01, -3.41498047e-01, -2.66451538e-01,\n",
              "         -9.70706046e-02, -6.69296086e-02, -1.95802703e-01,\n",
              "         -2.05888703e-01, -6.66114092e-02,  3.00366193e-01,\n",
              "          2.36918956e-01, -2.26245224e-02,  1.61328465e-01,\n",
              "          3.23655903e-02, -1.01193309e-01, -1.01800233e-01,\n",
              "         -1.82416275e-01, -3.14613312e-01,  8.11154842e-02,\n",
              "         -1.04447469e-01, -1.46640092e-01],\n",
              "        [-3.04968685e-01,  1.90314502e-01,  3.08976203e-01,\n",
              "          2.34656960e-01,  1.69580191e-01,  4.12733853e-02,\n",
              "          2.65271932e-01, -1.46218792e-01, -8.98550451e-02,\n",
              "          2.47292429e-01, -2.23504320e-01, -2.98420250e-01,\n",
              "          1.92238539e-01,  3.82897258e-02, -9.35044885e-03,\n",
              "          1.57538086e-01, -1.96785316e-01,  2.17749864e-01,\n",
              "         -2.39828795e-01,  1.35700613e-01, -1.70788169e-03,\n",
              "         -3.10595304e-01, -2.01455355e-01,  7.62842000e-02,\n",
              "          3.76906693e-02, -1.80328667e-01,  3.25081319e-01,\n",
              "         -3.43746752e-01, -2.76945084e-01,  2.81672627e-01,\n",
              "         -1.11420840e-01,  2.81589240e-01],\n",
              "        [-3.29657346e-01, -2.67066360e-01, -6.81717619e-02,\n",
              "          8.17350447e-02,  2.18045637e-01, -2.57306129e-01,\n",
              "          3.72656107e-01,  4.68537033e-01, -2.71939218e-01,\n",
              "         -4.33290690e-01,  5.59743643e-01,  1.75777122e-01,\n",
              "         -7.35922083e-02,  1.97548773e-02,  8.94058123e-02,\n",
              "         -2.48589441e-01,  2.98694760e-01,  2.93070197e-01,\n",
              "         -5.69977388e-02,  2.70764500e-01,  2.26861745e-01,\n",
              "          5.57594121e-01,  9.33748186e-02,  2.73936450e-01,\n",
              "         -3.33999366e-01,  4.02929932e-01, -4.24555689e-01,\n",
              "          5.21647871e-01,  6.00454628e-01,  4.67332840e-01,\n",
              "         -1.54996037e-01, -3.63492787e-01],\n",
              "        [ 6.30487204e-02, -5.66656888e-02, -2.70643532e-01,\n",
              "         -3.42729330e-01, -8.65235925e-02, -2.01941565e-01,\n",
              "         -2.24317238e-01, -1.44248173e-01, -3.36350888e-01,\n",
              "         -3.30488443e-01,  5.73653877e-02, -7.45114684e-03,\n",
              "          1.84183419e-02, -2.78718770e-02, -1.79908544e-01,\n",
              "          5.33991158e-02,  1.46583050e-01,  1.27207041e-01,\n",
              "          2.82677323e-01, -2.33555913e-01, -1.45225063e-01,\n",
              "         -2.94905454e-01,  1.53970718e-02, -2.20928967e-01,\n",
              "          5.64288199e-02, -5.94932139e-02, -4.84190583e-02,\n",
              "          2.09581524e-01, -8.92843008e-02, -1.42636061e-01,\n",
              "          2.90708452e-01,  2.18002349e-01],\n",
              "        [-4.06950623e-01,  1.99722797e-01, -2.96868756e-02,\n",
              "         -3.30406934e-01,  5.41483521e-01,  7.73773566e-02,\n",
              "          2.10348479e-02,  6.50915027e-01, -4.09626067e-02,\n",
              "         -2.15689749e-01,  4.14949208e-01, -2.98053890e-01,\n",
              "         -1.80959985e-01, -9.25831869e-02, -2.18435436e-01,\n",
              "          7.86660910e-02, -2.47866437e-01,  4.25448298e-01,\n",
              "          4.25098747e-01, -1.91515610e-01, -2.55325437e-01,\n",
              "          4.78258282e-01, -4.93896008e-02,  5.84577262e-01,\n",
              "          1.07319623e-01,  5.74166358e-01, -5.40795743e-01,\n",
              "          9.41191465e-02,  3.39254200e-01,  5.24552047e-01,\n",
              "         -1.62286356e-01,  9.19467360e-02],\n",
              "        [-3.36702317e-01,  2.59428322e-02,  3.41444284e-01,\n",
              "         -1.35968760e-01, -1.08041167e-01, -3.25963557e-01,\n",
              "         -2.10615218e-01, -1.01242721e-01,  1.07554555e-01,\n",
              "          9.12180841e-02, -2.79349387e-01,  2.57936686e-01,\n",
              "          1.96146637e-01, -2.68368602e-01,  1.11761123e-01,\n",
              "         -3.39649469e-01, -2.07945630e-01, -3.08668941e-01,\n",
              "         -3.20451766e-01,  5.94019294e-02, -9.70418453e-02,\n",
              "          2.65399516e-02, -1.83354631e-01,  2.69967943e-01,\n",
              "         -2.06290692e-01, -2.03555450e-01,  7.16766715e-03,\n",
              "         -7.23222196e-02,  1.97591931e-01,  5.01872003e-02,\n",
              "          2.10310489e-01, -1.78112835e-01],\n",
              "        [ 7.15175569e-02, -1.61584854e-01, -1.21059239e-01,\n",
              "         -2.27371201e-01,  3.96358371e-02, -6.48126602e-02,\n",
              "          9.58193541e-02, -1.53801441e-01,  3.11970204e-01,\n",
              "          1.52867228e-01, -9.83604789e-03,  2.88812608e-01,\n",
              "          2.23524362e-01,  2.01779991e-01,  3.49443883e-01,\n",
              "         -3.20165664e-01, -2.88078785e-02,  2.88035542e-01,\n",
              "         -9.69245136e-02, -9.71601307e-02, -2.98637062e-01,\n",
              "          1.90572768e-01,  3.42565030e-01,  2.21431464e-01,\n",
              "         -1.19256616e-01, -2.54524946e-02, -8.09455514e-02,\n",
              "          1.12881899e-01, -1.18986532e-01,  9.68756974e-02,\n",
              "          2.08218485e-01, -1.62855089e-01],\n",
              "        [ 3.49230438e-01,  4.60932255e-02,  1.12723440e-01,\n",
              "         -2.49980792e-01, -3.02924573e-01,  2.83567637e-01,\n",
              "         -2.96478957e-01, -1.37213692e-01,  3.37354928e-01,\n",
              "         -1.57493919e-01, -2.31583446e-01,  2.51831263e-01,\n",
              "          3.16065282e-01, -2.87270963e-01,  2.41358668e-01,\n",
              "          3.52739722e-01,  3.05611998e-01, -2.23741859e-01,\n",
              "          1.76481158e-01, -9.21173394e-02,  1.84035391e-01,\n",
              "          1.30245984e-01,  1.61803931e-01, -4.43722010e-02,\n",
              "         -4.75625396e-02, -2.15819255e-01,  1.21076852e-01,\n",
              "          4.88578081e-02,  1.04647279e-02, -1.91307321e-01,\n",
              "          3.46413940e-01, -1.44594908e-02],\n",
              "        [ 1.56034976e-01,  9.24108326e-02,  1.79404527e-01,\n",
              "          2.91219145e-01, -2.56405592e-01,  2.56477147e-01,\n",
              "         -1.90834105e-01,  1.10946506e-01,  3.15803140e-01,\n",
              "         -3.33121121e-02, -2.66969025e-01, -2.03323364e-03,\n",
              "          2.01580018e-01, -8.20579827e-02, -1.02154016e-01,\n",
              "          5.16810417e-02, -1.14572942e-02,  9.98251438e-02,\n",
              "         -6.58220947e-02, -2.11872965e-01,  3.22652251e-01,\n",
              "         -4.85004783e-02, -3.31273288e-01, -2.75733441e-01,\n",
              "          1.37911558e-01,  2.92207599e-02, -3.21423233e-01,\n",
              "          1.59034818e-01, -3.33410978e-01, -6.57311380e-02,\n",
              "         -1.02741301e-01,  1.92783386e-01],\n",
              "        [-1.90933168e-01, -2.14371175e-01,  5.44490635e-01,\n",
              "         -1.19368389e-01,  4.79052424e-01, -2.70430565e-01,\n",
              "          5.25569677e-01,  5.28764864e-03, -1.41175836e-01,\n",
              "          6.48107380e-02,  5.25018573e-01, -1.12276331e-01,\n",
              "         -4.47585285e-01, -2.68630475e-01,  8.67949650e-02,\n",
              "         -1.66026801e-01,  1.37673914e-01,  2.64619619e-01,\n",
              "          5.05556464e-01, -3.28999132e-01, -3.28861654e-01,\n",
              "          3.87654477e-03, -5.54963648e-02,  4.91089046e-01,\n",
              "         -8.50802362e-02, -1.26954079e-01, -1.18653234e-02,\n",
              "          3.00085366e-01, -5.37271574e-02,  3.27638119e-01,\n",
              "         -4.54568863e-02, -4.12946910e-01]], dtype=float32),\n",
              " array([ 0.28318655,  0.        , -0.11372589,  0.        , -0.09614971,\n",
              "         0.30276135, -0.15928726, -0.16284318,  0.        ,  0.30486268,\n",
              "        -0.10922554, -0.00383475,  0.31593654,  0.3594152 ,  0.29070225,\n",
              "         0.        , -0.00051252, -0.1189251 , -0.1490209 ,  0.        ,\n",
              "         0.        , -0.13482173,  0.        , -0.09232301,  0.        ,\n",
              "        -0.13115364,  0.26299196, -0.10704821, -0.12134764, -0.12484326,\n",
              "         0.        ,  0.38071147], dtype=float32),\n",
              " array([[ 0.865595  , -0.7339867 ],\n",
              "        [-0.4164657 ,  0.10766342],\n",
              "        [-0.64112264,  0.76022   ],\n",
              "        [ 0.281316  , -0.27849144],\n",
              "        [-0.63173664,  0.59389496],\n",
              "        [-0.00728624, -0.49909142],\n",
              "        [-0.51948065, -0.01338572],\n",
              "        [-0.70908034, -0.06816202],\n",
              "        [ 0.17952445,  0.41329286],\n",
              "        [ 0.24370559, -0.5023875 ],\n",
              "        [-0.6659993 ,  0.66603404],\n",
              "        [-0.24452806,  0.0962775 ],\n",
              "        [ 0.90144247, -0.8628522 ],\n",
              "        [ 0.27116415, -0.5625938 ],\n",
              "        [ 0.2790297 , -0.12880656],\n",
              "        [-0.21293582, -0.3733343 ],\n",
              "        [-0.17828895,  0.10782458],\n",
              "        [-0.54386526,  0.5130705 ],\n",
              "        [-0.6122973 ,  0.12783358],\n",
              "        [-0.07668301,  0.40222064],\n",
              "        [ 0.09493771, -0.32549214],\n",
              "        [-0.7298619 ,  0.14599776],\n",
              "        [-0.11527675,  0.14389881],\n",
              "        [-0.263386  ,  0.36816   ],\n",
              "        [ 0.05820507,  0.22781608],\n",
              "        [-0.6851359 ,  0.63972026],\n",
              "        [ 0.69620574, -0.41141418],\n",
              "        [-0.7233928 ,  0.4818916 ],\n",
              "        [-0.5608509 ,  0.44480503],\n",
              "        [-0.54315066,  0.32324034],\n",
              "        [ 0.05474669,  0.34257314],\n",
              "        [ 0.7724967 , -0.49861252]], dtype=float32),\n",
              " array([ 0.2723771 , -0.27237713], dtype=float32)]"
            ]
          },
          "metadata": {
            "tags": []
          },
          "execution_count": 52
        }
      ]
    },
    {
      "cell_type": "code",
      "metadata": {
        "id": "PfnIWtcAFgbb"
      },
      "source": [
        ""
      ],
      "execution_count": null,
      "outputs": []
    }
  ]
}