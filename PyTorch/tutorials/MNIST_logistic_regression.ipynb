{
  "nbformat": 4,
  "nbformat_minor": 0,
  "metadata": {
    "colab": {
      "name": "MNIST-logistic_regression.ipynb",
      "provenance": [],
      "collapsed_sections": [],
      "authorship_tag": "ABX9TyPsqx3G9QDzdBc2mCA2Q6p7",
      "include_colab_link": true
    },
    "kernelspec": {
      "name": "python3",
      "display_name": "Python 3"
    },
    "language_info": {
      "name": "python"
    }
  },
  "cells": [
    {
      "cell_type": "markdown",
      "metadata": {
        "id": "view-in-github",
        "colab_type": "text"
      },
      "source": [
        "<a href=\"https://colab.research.google.com/github/DebadityaShome/Deep-learning-practice/blob/main/PyTorch/tutorials/MNIST_logistic_regression.ipynb\" target=\"_parent\"><img src=\"https://colab.research.google.com/assets/colab-badge.svg\" alt=\"Open In Colab\"/></a>"
      ]
    },
    {
      "cell_type": "code",
      "metadata": {
        "id": "To2fn_9Kjbbe"
      },
      "source": [
        "import torch\n",
        "import torchvision\n",
        "import torch.nn as nn\n",
        "import torch.nn.functional as F\n",
        "from torchvision.datasets import MNIST\n",
        "from torch.utils.data import random_split, DataLoader\n",
        "import torchvision.transforms as transforms"
      ],
      "execution_count": 42,
      "outputs": []
    },
    {
      "cell_type": "code",
      "metadata": {
        "id": "qkINXo6En3ci"
      },
      "source": [
        "dataset = MNIST(root=\"data/\", download=True, train=True, transform=transforms.ToTensor())"
      ],
      "execution_count": 13,
      "outputs": []
    },
    {
      "cell_type": "code",
      "metadata": {
        "colab": {
          "base_uri": "https://localhost:8080/"
        },
        "id": "RGtWgtbtoL4c",
        "outputId": "5c77d109-d42c-4d4a-f48c-d828da74862b"
      },
      "source": [
        "img_tensor, label = dataset[0]\n",
        "print(img_tensor.shape, label) # shape -> (channels, height, width)"
      ],
      "execution_count": 14,
      "outputs": [
        {
          "output_type": "stream",
          "name": "stdout",
          "text": [
            "torch.Size([1, 28, 28]) 5\n"
          ]
        }
      ]
    },
    {
      "cell_type": "code",
      "metadata": {
        "colab": {
          "base_uri": "https://localhost:8080/",
          "height": 281
        },
        "id": "m6Y3b5CVoL6D",
        "outputId": "25d5b0db-baa2-4d8a-937a-226ecd4f2596"
      },
      "source": [
        "plt.imshow(img_tensor[0, :, :], cmap='gray')"
      ],
      "execution_count": 18,
      "outputs": [
        {
          "output_type": "execute_result",
          "data": {
            "text/plain": [
              "<matplotlib.image.AxesImage at 0x7fc782592310>"
            ]
          },
          "metadata": {},
          "execution_count": 18
        },
        {
          "output_type": "display_data",
          "data": {
            "image/png": "[encoded data removed]",
            "text/plain": [
              "<Figure size 432x288 with 1 Axes>"
            ]
          },
          "metadata": {
            "needs_background": "light"
          }
        }
      ]
    },
    {
      "cell_type": "code",
      "metadata": {
        "colab": {
          "base_uri": "https://localhost:8080/"
        },
        "id": "m4p9dN6poL9r",
        "outputId": "5c6ed94e-05d9-40e6-aa2a-86e430f8ff7a"
      },
      "source": [
        "train_ds, val_ds = random_split(dataset, [50000, 10000])\n",
        "len(train_ds), len(val_ds)"
      ],
      "execution_count": 21,
      "outputs": [
        {
          "output_type": "execute_result",
          "data": {
            "text/plain": [
              "(50000, 10000)"
            ]
          },
          "metadata": {},
          "execution_count": 21
        }
      ]
    },
    {
      "cell_type": "code",
      "metadata": {
        "id": "C4yQwwOxpW3C"
      },
      "source": [
        "batch_size = 128\n",
        "train_loader = DataLoader(train_ds, batch_size, shuffle=True)\n",
        "val_loader = DataLoader(val_ds, batch_size)"
      ],
      "execution_count": 23,
      "outputs": []
    },
    {
      "cell_type": "markdown",
      "metadata": {
        "id": "u8ly3kopqQDh"
      },
      "source": [
        "## Model\n",
        "\n",
        "\n",
        "*   Logistic regression model is almost similar to a linear regression one. It contains weights and bias matrices, and output is obtained using simple matrix operations. (`pred = x @ w.t() + b`)\n",
        "*   We can use `nn.Linear` to create the model instead of manually creating and initializing the matrices.\n",
        "*   Since `nn.Linear` expects a vector as input, each image is flattened to a 784 dimension vector.\n",
        "* Output for each image is a vector of size 10, with each element signifying the probability of a particular target label (i.e, 0 to 9). The predicted label for an image is simply the one with highest probability.\n",
        "\n"
      ]
    },
    {
      "cell_type": "code",
      "metadata": {
        "id": "b8PFoDdNp-_p"
      },
      "source": [
        "input_size = 28*28\n",
        "num_classes = 10\n",
        "\n",
        "# Logistic Regression\n",
        "model = nn.Linear(input_size, num_classes)"
      ],
      "execution_count": 25,
      "outputs": []
    },
    {
      "cell_type": "code",
      "metadata": {
        "colab": {
          "base_uri": "https://localhost:8080/"
        },
        "id": "5boxS6oxtCqL",
        "outputId": "e0d7a566-0c08-410b-ab78-9c2f07821f09"
      },
      "source": [
        "print(model.weight.shape)"
      ],
      "execution_count": 26,
      "outputs": [
        {
          "output_type": "stream",
          "name": "stdout",
          "text": [
            "torch.Size([10, 784])\n"
          ]
        }
      ]
    },
    {
      "cell_type": "code",
      "metadata": {
        "colab": {
          "base_uri": "https://localhost:8080/"
        },
        "id": "-V3cU1jEtFmk",
        "outputId": "70c630f3-2181-421d-d5f5-a3922dbf94ca"
      },
      "source": [
        "model.weight.shape, model.weight"
      ],
      "execution_count": 29,
      "outputs": [
        {
          "output_type": "execute_result",
          "data": {
            "text/plain": [
              "(torch.Size([10, 784]), Parameter containing:\n",
              " tensor([[-0.0323,  0.0088,  0.0042,  ...,  0.0185,  0.0301, -0.0286],\n",
              "         [ 0.0346,  0.0248, -0.0088,  ..., -0.0176, -0.0061, -0.0291],\n",
              "         [ 0.0267,  0.0171,  0.0354,  ..., -0.0156, -0.0312, -0.0098],\n",
              "         ...,\n",
              "         [-0.0299, -0.0222, -0.0231,  ..., -0.0346,  0.0088,  0.0127],\n",
              "         [-0.0092,  0.0207,  0.0152,  ...,  0.0045, -0.0240,  0.0240],\n",
              "         [-0.0205, -0.0242, -0.0088,  ..., -0.0189,  0.0132,  0.0124]],\n",
              "        requires_grad=True))"
            ]
          },
          "metadata": {},
          "execution_count": 29
        }
      ]
    },
    {
      "cell_type": "code",
      "metadata": {
        "colab": {
          "base_uri": "https://localhost:8080/"
        },
        "id": "ONHMDhtptGrt",
        "outputId": "07e8a8ce-4a17-4084-c963-48edd057860d"
      },
      "source": [
        "model.bias.shape, model.bias"
      ],
      "execution_count": 30,
      "outputs": [
        {
          "output_type": "execute_result",
          "data": {
            "text/plain": [
              "(torch.Size([10]), Parameter containing:\n",
              " tensor([-0.0139, -0.0045,  0.0170,  0.0322,  0.0167,  0.0249, -0.0353, -0.0016,\n",
              "         -0.0035,  0.0093], requires_grad=True))"
            ]
          },
          "metadata": {},
          "execution_count": 30
        }
      ]
    },
    {
      "cell_type": "code",
      "metadata": {
        "id": "Ap06tD4kvPUd"
      },
      "source": [
        "class MnistModel(nn.Module):\n",
        "    \"\"\"\n",
        "    __init__ constructor: Initializes the weights and biases using nn.Linear\n",
        "    forward method: It is invoked when we pass a batch of inputs to the model, \n",
        "    \"\"\"\n",
        "    def __init__(self):\n",
        "        super().__init__()\n",
        "        self.linear = nn.Linear(input_size, num_classes)\n",
        "    \n",
        "    def forward(self, xb):\n",
        "        xb = xb.reshape(-1, 784)\n",
        "        out = self.linear(xb)\n",
        "        return out\n",
        "\n",
        "model = MnistModel()"
      ],
      "execution_count": 35,
      "outputs": []
    },
    {
      "cell_type": "code",
      "metadata": {
        "colab": {
          "base_uri": "https://localhost:8080/"
        },
        "id": "yk7phoJcuG_z",
        "outputId": "647c65e4-9a19-4e0d-a0fe-5ac40044c4cd"
      },
      "source": [
        "for images, labels in train_loader:\n",
        "    print(labels)\n",
        "    print(images.shape)\n",
        "    outputs = model(images)\n",
        "    print(outputs)\n",
        "    break"
      ],
      "execution_count": 36,
      "outputs": [
        {
          "output_type": "stream",
          "name": "stdout",
          "text": [
            "tensor([1, 9, 5, 6, 0, 0, 6, 8, 1, 1, 3, 6, 6, 2, 9, 6, 3, 5, 8, 9, 3, 0, 3, 6,\n",
            "        6, 4, 8, 1, 1, 7, 6, 1, 6, 5, 7, 9, 4, 7, 7, 1, 3, 3, 0, 4, 9, 3, 0, 1,\n",
            "        0, 3, 4, 6, 5, 1, 4, 8, 0, 9, 7, 1, 3, 9, 7, 2, 1, 7, 0, 0, 7, 0, 4, 9,\n",
            "        5, 4, 5, 1, 6, 2, 9, 1, 3, 1, 4, 1, 4, 6, 6, 3, 0, 7, 8, 9, 1, 3, 3, 5,\n",
            "        7, 2, 4, 0, 9, 4, 0, 7, 1, 6, 6, 8, 3, 2, 6, 3, 8, 5, 0, 6, 6, 4, 0, 1,\n",
            "        1, 0, 4, 5, 7, 5, 0, 4])\n",
            "torch.Size([128, 1, 28, 28])\n",
            "tensor([[ 0.0313,  0.0651, -0.0715,  ..., -0.1474, -0.1087,  0.0826],\n",
            "        [-0.0683, -0.2897, -0.1437,  ...,  0.0058, -0.1568,  0.1429],\n",
            "        [ 0.0422, -0.1911, -0.0039,  ...,  0.0202, -0.2929,  0.1849],\n",
            "        ...,\n",
            "        [-0.1234, -0.1638, -0.1421,  ...,  0.0260, -0.3933, -0.0074],\n",
            "        [ 0.3366, -0.1612, -0.1074,  ...,  0.6068,  0.1386,  0.3147],\n",
            "        [-0.0038, -0.0777, -0.0602,  ..., -0.0015, -0.1470,  0.2202]],\n",
            "       grad_fn=<AddmmBackward>)\n"
          ]
        }
      ]
    },
    {
      "cell_type": "code",
      "metadata": {
        "colab": {
          "base_uri": "https://localhost:8080/"
        },
        "id": "WKsC2RNHu-c-",
        "outputId": "ca900e93-5166-4de8-f61d-e4b4d886004f"
      },
      "source": [
        "list(model.parameters())"
      ],
      "execution_count": 41,
      "outputs": [
        {
          "output_type": "execute_result",
          "data": {
            "text/plain": [
              "[Parameter containing:\n",
              " tensor([[-0.0281, -0.0172, -0.0180,  ..., -0.0101,  0.0041,  0.0103],\n",
              "         [ 0.0131,  0.0339, -0.0191,  ..., -0.0128, -0.0131,  0.0041],\n",
              "         [ 0.0053,  0.0205, -0.0130,  ...,  0.0122,  0.0005, -0.0243],\n",
              "         ...,\n",
              "         [-0.0259,  0.0125, -0.0083,  ..., -0.0302,  0.0006, -0.0020],\n",
              "         [-0.0283,  0.0027, -0.0205,  ...,  0.0189,  0.0243, -0.0085],\n",
              "         [ 0.0210,  0.0186, -0.0023,  ...,  0.0014, -0.0202, -0.0011]],\n",
              "        requires_grad=True), Parameter containing:\n",
              " tensor([ 0.0098, -0.0243,  0.0312, -0.0104, -0.0176,  0.0104,  0.0291,  0.0175,\n",
              "         -0.0075,  0.0226], requires_grad=True)]"
            ]
          },
          "metadata": {},
          "execution_count": 41
        }
      ]
    },
    {
      "cell_type": "code",
      "metadata": {
        "colab": {
          "base_uri": "https://localhost:8080/"
        },
        "id": "-S5Ac5Ymx-80",
        "outputId": "88f404b8-b38d-4d7f-84f8-162a32f92e49"
      },
      "source": [
        "# Apply softmax for each output row\n",
        "probs = F.softmax(outputs, dim=1)\n",
        "\n",
        "# Look at sample probabilities\n",
        "print(\"Sample probabilities:\\n\", probs[:2].data)\n",
        "\n",
        "# Add up the probabilities of an output row\n",
        "print(\"Sum: \", torch.sum(probs[0]).item())"
      ],
      "execution_count": 43,
      "outputs": [
        {
          "output_type": "stream",
          "name": "stdout",
          "text": [
            "Sample probabilities:\n",
            " tensor([[0.1091, 0.1129, 0.0985, 0.0981, 0.0719, 0.1031, 0.1054, 0.0913, 0.0949,\n",
            "         0.1149],\n",
            "        [0.1004, 0.0805, 0.0931, 0.0856, 0.1029, 0.1018, 0.1118, 0.1081, 0.0919,\n",
            "         0.1240]])\n",
            "Sum:  1.0\n"
          ]
        }
      ]
    },
    {
      "cell_type": "code",
      "metadata": {
        "colab": {
          "base_uri": "https://localhost:8080/"
        },
        "id": "yoH3Ek4l_UXr",
        "outputId": "579454da-3ce9-49e1-bc3b-ca2b46d07078"
      },
      "source": [
        "# max_probs are the maximum probabilities of labels per image\n",
        "# preds are the indexes of the max probabilities\n",
        "max_probs, preds = torch.max(probs, dim=1)\n",
        "print(preds)\n",
        "print(max_probs)"
      ],
      "execution_count": 46,
      "outputs": [
        {
          "output_type": "stream",
          "name": "stdout",
          "text": [
            "tensor([9, 9, 9, 9, 7, 0, 7, 0, 0, 6, 7, 9, 6, 0, 5, 7, 5, 5, 9, 9, 5, 7, 7, 1,\n",
            "        9, 0, 0, 6, 0, 9, 7, 6, 9, 5, 3, 0, 0, 3, 1, 0, 8, 6, 0, 0, 1, 5, 0, 6,\n",
            "        7, 7, 5, 9, 9, 5, 9, 7, 3, 7, 7, 6, 8, 9, 6, 0, 0, 9, 7, 7, 0, 0, 6, 9,\n",
            "        5, 0, 5, 6, 9, 6, 6, 4, 7, 6, 3, 9, 1, 9, 6, 7, 5, 3, 5, 6, 0, 7, 1, 0,\n",
            "        4, 3, 3, 0, 2, 9, 0, 3, 0, 0, 7, 9, 7, 1, 9, 7, 0, 7, 0, 7, 9, 9, 0, 1,\n",
            "        6, 0, 2, 5, 9, 7, 7, 9])\n",
            "tensor([0.1149, 0.1240, 0.1231, 0.1233, 0.1292, 0.1406, 0.1316, 0.1309, 0.1247,\n",
            "        0.1283, 0.1159, 0.1293, 0.1230, 0.1317, 0.1255, 0.1274, 0.1330, 0.1215,\n",
            "        0.1268, 0.1675, 0.1442, 0.1484, 0.1292, 0.1211, 0.1187, 0.1353, 0.1262,\n",
            "        0.1406, 0.1357, 0.1340, 0.1164, 0.1414, 0.1258, 0.1348, 0.1323, 0.1252,\n",
            "        0.1203, 0.1120, 0.1151, 0.1110, 0.1251, 0.1166, 0.1657, 0.1365, 0.1312,\n",
            "        0.1393, 0.1276, 0.1219, 0.1333, 0.1230, 0.1280, 0.1348, 0.1407, 0.1144,\n",
            "        0.1228, 0.1278, 0.1349, 0.1288, 0.1303, 0.1146, 0.1214, 0.1183, 0.1285,\n",
            "        0.1246, 0.1228, 0.1406, 0.1403, 0.1313, 0.1183, 0.1482, 0.1116, 0.1269,\n",
            "        0.1232, 0.1165, 0.1221, 0.1249, 0.1319, 0.1171, 0.1293, 0.1158, 0.1216,\n",
            "        0.1168, 0.1315, 0.1116, 0.1226, 0.1284, 0.1193, 0.1392, 0.1127, 0.1360,\n",
            "        0.1161, 0.1274, 0.1177, 0.1362, 0.1217, 0.1202, 0.1183, 0.1379, 0.1135,\n",
            "        0.1403, 0.1155, 0.1468, 0.1316, 0.1115, 0.1271, 0.1282, 0.1354, 0.1491,\n",
            "        0.1182, 0.1610, 0.1276, 0.1268, 0.1286, 0.1212, 0.1220, 0.1316, 0.1365,\n",
            "        0.1168, 0.1652, 0.1231, 0.1507, 0.1817, 0.1125, 0.1240, 0.1408, 0.1170,\n",
            "        0.1549, 0.1274], grad_fn=<MaxBackward0>)\n"
          ]
        }
      ]
    },
    {
      "cell_type": "code",
      "metadata": {
        "id": "c3CiPfWzA0AX"
      },
      "source": [
        "def accuracy(outputs, labels):\n",
        "    _, preds = torch.max(outputs, dim=1)\n",
        "    return torch.tensor(torch.sum(preds == labels).item() / len(preds))"
      ],
      "execution_count": 47,
      "outputs": []
    },
    {
      "cell_type": "code",
      "metadata": {
        "colab": {
          "base_uri": "https://localhost:8080/"
        },
        "id": "t2jBl_gcCVx-",
        "outputId": "918088b8-b5f8-405b-e834-f49ab60b378e"
      },
      "source": [
        "accuracy(outputs, labels)"
      ],
      "execution_count": 48,
      "outputs": [
        {
          "output_type": "execute_result",
          "data": {
            "text/plain": [
              "tensor(0.1719)"
            ]
          },
          "metadata": {},
          "execution_count": 48
        }
      ]
    },
    {
      "cell_type": "code",
      "metadata": {
        "id": "w7WCU4ovCYIh"
      },
      "source": [
        "loss_fn = F.cross_entropy"
      ],
      "execution_count": 49,
      "outputs": []
    },
    {
      "cell_type": "code",
      "metadata": {
        "colab": {
          "base_uri": "https://localhost:8080/"
        },
        "id": "kUnj2rnxDVxS",
        "outputId": "83b17bec-1df3-4611-9dc1-94bb600ae7ca"
      },
      "source": [
        "# Loss for current batch of data\n",
        "loss = loss_fn(outputs, labels)\n",
        "print(loss)"
      ],
      "execution_count": 50,
      "outputs": [
        {
          "output_type": "stream",
          "name": "stdout",
          "text": [
            "tensor(2.2779, grad_fn=<NllLossBackward>)\n"
          ]
        }
      ]
    },
    {
      "cell_type": "code",
      "metadata": {
        "id": "EzBfLrCgDaul"
      },
      "source": [
        "def fit(epochs, lr, model, train_loader, val_loader, opt_func=torch.optim.SGD):\n",
        "    optimizer = opt_func(model.parameters(), lr)\n",
        "    history = []\n",
        "\n",
        "    for epoch in range(epochs):\n",
        "\n",
        "        # Training phase\n",
        "        for batch in train_loader:\n",
        "\n",
        "            loss = model.training_step(batch)\n",
        "            loss.backward()\n",
        "            optimizer.step()\n",
        "            optimizer.zero_grad()\n",
        "        \n",
        "        # Validation phase\n",
        "        result = evaluate(model, val_loader)\n",
        "        model.epoch_end(epoch, result)\n",
        "        history.append(result)\n",
        "    \n",
        "    return history"
      ],
      "execution_count": 62,
      "outputs": []
    },
    {
      "cell_type": "code",
      "metadata": {
        "id": "KVQLnp7ANaQg"
      },
      "source": [
        "def evaluate(model, val_loader):\n",
        "    outputs = [model.validation_step(batch) for batch in val_loader]\n",
        "    return model.validation_epoch_end(outputs)"
      ],
      "execution_count": 63,
      "outputs": []
    },
    {
      "cell_type": "code",
      "metadata": {
        "id": "M7OZFq6hPj7K"
      },
      "source": [
        "# Final version\n",
        "class MnistModel(nn.Module):\n",
        "    def __init__(self):\n",
        "        super().__init__()\n",
        "        self.linear = nn.Linear(input_size, num_classes)\n",
        "    \n",
        "    def forward(self, xb):\n",
        "        xb = xb.reshape(-1, 784)\n",
        "        out = self.linear(xb)\n",
        "        return out\n",
        "    \n",
        "    def training_step(self, batch):\n",
        "        images, labels = batch\n",
        "        out = self(images) # Generate predictions\n",
        "        loss = F.cross_entropy(out, labels) # Calculate loss\n",
        "        return loss\n",
        "    \n",
        "    def validation_step(self, batch):\n",
        "        images, labels = batch\n",
        "        out = self(images)\n",
        "        loss = F.cross_entropy(out, labels)\n",
        "        acc = accuracy(out, labels)\n",
        "        return {'val_loss': loss, 'val_acc': acc}\n",
        "    \n",
        "    def validation_epoch_end(self, outputs):\n",
        "        batch_losses = [x['val_loss'] for x in outputs]\n",
        "        epoch_loss = torch.stack(batch_losses).mean() # Combine losses\n",
        "        batch_accs = [x['val_acc'] for x in outputs]\n",
        "        epoch_acc = torch.stack(batch_accs).mean() # Combine accuracies\n",
        "        return {'val_loss': epoch_loss.item(), 'val_acc': epoch_acc.item()}\n",
        "    \n",
        "    def epoch_end(self, epoch, result):\n",
        "        print(\"Epoch [{}], val_loss: {:.4f}, val_acc: {:.4f}\".format(epoch, result['val_loss'], result['val_acc']))\n",
        "\n",
        "model = MnistModel()"
      ],
      "execution_count": 64,
      "outputs": []
    },
    {
      "cell_type": "code",
      "metadata": {
        "colab": {
          "base_uri": "https://localhost:8080/"
        },
        "id": "IfOfibhwW1Uj",
        "outputId": "b8d8d003-cc16-4aa2-bebc-28819e731d9c"
      },
      "source": [
        "result0 = evaluate(model, val_loader)\n",
        "result0"
      ],
      "execution_count": 65,
      "outputs": [
        {
          "output_type": "execute_result",
          "data": {
            "text/plain": [
              "{'val_acc': 0.04202927276492119, 'val_loss': 2.3444883823394775}"
            ]
          },
          "metadata": {},
          "execution_count": 65
        }
      ]
    },
    {
      "cell_type": "code",
      "metadata": {
        "colab": {
          "base_uri": "https://localhost:8080/"
        },
        "id": "AkKY7z8SXTpW",
        "outputId": "8b7b9cdb-a5d8-4307-ff73-787d083da01f"
      },
      "source": [
        "history1 = fit(5, 0.001, model, train_loader, val_loader)"
      ],
      "execution_count": 66,
      "outputs": [
        {
          "output_type": "stream",
          "name": "stdout",
          "text": [
            "Epoch [0], val_loss: 1.9763, val_acc: 0.6027\n",
            "Epoch [1], val_loss: 1.7041, val_acc: 0.7122\n",
            "Epoch [2], val_loss: 1.5008, val_acc: 0.7465\n",
            "Epoch [3], val_loss: 1.3473, val_acc: 0.7726\n",
            "Epoch [4], val_loss: 1.2291, val_acc: 0.7906\n"
          ]
        }
      ]
    },
    {
      "cell_type": "code",
      "metadata": {
        "colab": {
          "base_uri": "https://localhost:8080/"
        },
        "id": "87vHRT9NXsJX",
        "outputId": "ac3d6a47-fd32-47d2-9c3a-e14c9555d894"
      },
      "source": [
        "history2 = fit(5, 0.01, model, train_loader, val_loader)"
      ],
      "execution_count": 67,
      "outputs": [
        {
          "output_type": "stream",
          "name": "stdout",
          "text": [
            "Epoch [0], val_loss: 0.7640, val_acc: 0.8407\n",
            "Epoch [1], val_loss: 0.6285, val_acc: 0.8566\n",
            "Epoch [2], val_loss: 0.5609, val_acc: 0.8635\n",
            "Epoch [3], val_loss: 0.5197, val_acc: 0.8709\n",
            "Epoch [4], val_loss: 0.4909, val_acc: 0.8757\n"
          ]
        }
      ]
    },
    {
      "cell_type": "code",
      "metadata": {
        "colab": {
          "base_uri": "https://localhost:8080/"
        },
        "id": "RODSeyeFZgNu",
        "outputId": "520cea2b-b0ad-41a2-cb27-90206e23219e"
      },
      "source": [
        "history3 = fit(5, 0.1, model, train_loader, val_loader)"
      ],
      "execution_count": 68,
      "outputs": [
        {
          "output_type": "stream",
          "name": "stdout",
          "text": [
            "Epoch [0], val_loss: 0.3907, val_acc: 0.8938\n",
            "Epoch [1], val_loss: 0.3578, val_acc: 0.8997\n",
            "Epoch [2], val_loss: 0.3414, val_acc: 0.9032\n",
            "Epoch [3], val_loss: 0.3307, val_acc: 0.9077\n",
            "Epoch [4], val_loss: 0.3234, val_acc: 0.9085\n"
          ]
        }
      ]
    },
    {
      "cell_type": "code",
      "metadata": {
        "colab": {
          "base_uri": "https://localhost:8080/",
          "height": 312
        },
        "id": "uwT9ev_3Z1aI",
        "outputId": "e6bc934d-95cb-4b03-a998-ac694719df12"
      },
      "source": [
        "history = [result0] + history1 + history2 + history3\n",
        "accuracies = [result['val_acc'] for result in history]\n",
        "plt.plot(accuracies, '-x')\n",
        "plt.xlabel('epoch')\n",
        "plt.ylabel('accuracy')\n",
        "plt.title('Accuracy vs No. of epochs')"
      ],
      "execution_count": 69,
      "outputs": [
        {
          "output_type": "execute_result",
          "data": {
            "text/plain": [
              "Text(0.5, 1.0, 'Accuracy vs No. of epochs')"
            ]
          },
          "metadata": {},
          "execution_count": 69
        },
        {
          "output_type": "display_data",
          "data": {
            "image/png": "[encoded data removed]",
            "text/plain": [
              "<Figure size 432x288 with 1 Axes>"
            ]
          },
          "metadata": {
            "needs_background": "light"
          }
        }
      ]
    },
    {
      "cell_type": "code",
      "metadata": {
        "id": "B2s2FT0vaQV5"
      },
      "source": [
        "test_dataset = MNIST(root='data/',\n",
        "                     train=False,\n",
        "                     transform=transforms.ToTensor())"
      ],
      "execution_count": 71,
      "outputs": []
    },
    {
      "cell_type": "code",
      "metadata": {
        "id": "gyuXGgMvdsj1"
      },
      "source": [
        "def predict_image(img, model):\n",
        "    xb = img.unsqueeze(0)\n",
        "    yb = model(xb)\n",
        "    _, preds = torch.max(yb, dim=1)\n",
        "    return preds[0].item()"
      ],
      "execution_count": 73,
      "outputs": []
    },
    {
      "cell_type": "code",
      "metadata": {
        "colab": {
          "base_uri": "https://localhost:8080/",
          "height": 281
        },
        "id": "VD75o6Jlf0Ni",
        "outputId": "e87a825e-516d-48f0-90fa-965943a07e0b"
      },
      "source": [
        "img, label = test_dataset[0]\n",
        "plt.imshow(img[0], cmap='gray')\n",
        "print('Label:', label, ', Predicted: ', predict_image(img, model))"
      ],
      "execution_count": 74,
      "outputs": [
        {
          "output_type": "stream",
          "name": "stdout",
          "text": [
            "Label: 7 , Predicted:  7\n"
          ]
        },
        {
          "output_type": "display_data",
          "data": {
            "image/png": "[encoded data removed]",
            "text/plain": [
              "<Figure size 432x288 with 1 Axes>"
            ]
          },
          "metadata": {
            "needs_background": "light"
          }
        }
      ]
    },
    {
      "cell_type": "code",
      "metadata": {
        "colab": {
          "base_uri": "https://localhost:8080/"
        },
        "id": "CQ1wZI7ogAcV",
        "outputId": "3332a939-72f6-469e-bbb3-626f4dc21116"
      },
      "source": [
        "test_loader = DataLoader(test_dataset, batch_size=256)\n",
        "result = evaluate(model, test_loader)\n",
        "result"
      ],
      "execution_count": 75,
      "outputs": [
        {
          "output_type": "execute_result",
          "data": {
            "text/plain": [
              "{'val_acc': 0.9161132574081421, 'val_loss': 0.29895249009132385}"
            ]
          },
          "metadata": {},
          "execution_count": 75
        }
      ]
    },
    {
      "cell_type": "markdown",
      "metadata": {
        "id": "1tiTWn5rgbQt"
      },
      "source": [
        "### Saving and loading models"
      ]
    },
    {
      "cell_type": "code",
      "metadata": {
        "id": "lZDKe_aFgbqG"
      },
      "source": [
        "torch.save(model.state_dict(), 'mnist_logistic.pth')"
      ],
      "execution_count": 76,
      "outputs": []
    },
    {
      "cell_type": "code",
      "metadata": {
        "colab": {
          "base_uri": "https://localhost:8080/"
        },
        "id": "7zfj1isJgkV1",
        "outputId": "cc794db2-2fb1-4a0c-84dc-c212d9699939"
      },
      "source": [
        "model.state_dict()"
      ],
      "execution_count": 77,
      "outputs": [
        {
          "output_type": "execute_result",
          "data": {
            "text/plain": [
              "OrderedDict([('linear.weight',\n",
              "              tensor([[ 0.0349, -0.0207,  0.0320,  ..., -0.0129,  0.0137, -0.0168],\n",
              "                      [ 0.0152, -0.0249, -0.0095,  ..., -0.0005, -0.0145, -0.0038],\n",
              "                      [-0.0049,  0.0175, -0.0065,  ...,  0.0262,  0.0153, -0.0306],\n",
              "                      ...,\n",
              "                      [ 0.0227,  0.0330,  0.0263,  ...,  0.0017,  0.0283,  0.0204],\n",
              "                      [-0.0160, -0.0162, -0.0253,  ..., -0.0125,  0.0015,  0.0084],\n",
              "                      [ 0.0203, -0.0297, -0.0031,  ..., -0.0306, -0.0345,  0.0116]])),\n",
              "             ('linear.bias',\n",
              "              tensor([-0.2341,  0.2888,  0.0385, -0.1928,  0.0629,  0.7643, -0.0353,  0.3480,\n",
              "                      -0.9310, -0.1346]))])"
            ]
          },
          "metadata": {},
          "execution_count": 77
        }
      ]
    },
    {
      "cell_type": "code",
      "metadata": {
        "colab": {
          "base_uri": "https://localhost:8080/"
        },
        "id": "eShO5cz-gl3B",
        "outputId": "1533e144-1f92-43e0-de19-2ab72da230e9"
      },
      "source": [
        "# Initialize a new model\n",
        "new_model = MnistModel()\n",
        "\n",
        "evaluate(new_model, test_loader)"
      ],
      "execution_count": 78,
      "outputs": [
        {
          "output_type": "execute_result",
          "data": {
            "text/plain": [
              "{'val_acc': 0.10810546576976776, 'val_loss': 2.3097784519195557}"
            ]
          },
          "metadata": {},
          "execution_count": 78
        }
      ]
    },
    {
      "cell_type": "code",
      "metadata": {
        "colab": {
          "base_uri": "https://localhost:8080/"
        },
        "id": "DI0MQ6dChbRU",
        "outputId": "2d4a2e73-310f-4a7f-9b36-814c7a88f2c0"
      },
      "source": [
        "new_model.load_state_dict(torch.load('mnist_logistic.pth'))\n",
        "new_model.state_dict()"
      ],
      "execution_count": 80,
      "outputs": [
        {
          "output_type": "execute_result",
          "data": {
            "text/plain": [
              "OrderedDict([('linear.weight',\n",
              "              tensor([[ 0.0349, -0.0207,  0.0320,  ..., -0.0129,  0.0137, -0.0168],\n",
              "                      [ 0.0152, -0.0249, -0.0095,  ..., -0.0005, -0.0145, -0.0038],\n",
              "                      [-0.0049,  0.0175, -0.0065,  ...,  0.0262,  0.0153, -0.0306],\n",
              "                      ...,\n",
              "                      [ 0.0227,  0.0330,  0.0263,  ...,  0.0017,  0.0283,  0.0204],\n",
              "                      [-0.0160, -0.0162, -0.0253,  ..., -0.0125,  0.0015,  0.0084],\n",
              "                      [ 0.0203, -0.0297, -0.0031,  ..., -0.0306, -0.0345,  0.0116]])),\n",
              "             ('linear.bias',\n",
              "              tensor([-0.2341,  0.2888,  0.0385, -0.1928,  0.0629,  0.7643, -0.0353,  0.3480,\n",
              "                      -0.9310, -0.1346]))])"
            ]
          },
          "metadata": {},
          "execution_count": 80
        }
      ]
    },
    {
      "cell_type": "code",
      "metadata": {
        "colab": {
          "base_uri": "https://localhost:8080/"
        },
        "id": "6RXoi6M2hjFq",
        "outputId": "0f67017a-ab38-4748-994f-a8c589c2da20"
      },
      "source": [
        "evaluate(new_model, test_loader)"
      ],
      "execution_count": 81,
      "outputs": [
        {
          "output_type": "execute_result",
          "data": {
            "text/plain": [
              "{'val_acc': 0.9161132574081421, 'val_loss': 0.29895249009132385}"
            ]
          },
          "metadata": {},
          "execution_count": 81
        }
      ]
    }
  ]
}