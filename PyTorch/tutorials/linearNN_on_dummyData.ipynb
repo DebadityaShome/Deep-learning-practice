{
  "nbformat": 4,
  "nbformat_minor": 0,
  "metadata": {
    "colab": {
      "name": "linearNN_on_dummyData.ipynb",
      "provenance": [],
      "authorship_tag": "ABX9TyP1wgCP+D7XE4taS/PrsoOM",
      "include_colab_link": true
    },
    "kernelspec": {
      "name": "python3",
      "display_name": "Python 3"
    },
    "language_info": {
      "name": "python"
    }
  },
  "cells": [
    {
      "cell_type": "markdown",
      "metadata": {
        "id": "view-in-github",
        "colab_type": "text"
      },
      "source": [
        "<a href=\"https://colab.research.google.com/github/DebadityaShome/Deep-learning-practice/blob/main/PyTorch/tutorials/linearNN_on_dummyData.ipynb\" target=\"_parent\"><img src=\"https://colab.research.google.com/assets/colab-badge.svg\" alt=\"Open In Colab\"/></a>"
      ]
    },
    {
      "cell_type": "code",
      "metadata": {
        "id": "EEKLR6rw2_Yz"
      },
      "source": [
        "import torch\n",
        "import torch.nn as nn\n",
        "import torch.nn.functional as F\n",
        "import numpy as np"
      ],
      "execution_count": 36,
      "outputs": []
    },
    {
      "cell_type": "code",
      "metadata": {
        "id": "TuojiFYx3C2G"
      },
      "source": [
        "# Input (temp, rainfall, humidity)\n",
        "inputs = 100. * np.random.random((45, 3)).astype('float32')\n",
        "targets = 100. * np.random.random((45, 2)).astype('float32')\n",
        "\n",
        "inputs = torch.from_numpy(inputs)\n",
        "targets = torch.from_numpy(targets)"
      ],
      "execution_count": 27,
      "outputs": []
    },
    {
      "cell_type": "markdown",
      "metadata": {
        "id": "EllOq7NC822w"
      },
      "source": [
        "## **Dataset and DataLoader**"
      ]
    },
    {
      "cell_type": "code",
      "metadata": {
        "id": "ZuugEqAe7XfD"
      },
      "source": [
        "from torch.utils.data import TensorDataset"
      ],
      "execution_count": 28,
      "outputs": []
    },
    {
      "cell_type": "code",
      "metadata": {
        "colab": {
          "base_uri": "https://localhost:8080/"
        },
        "id": "s_XCvs977sFl",
        "outputId": "f3133a26-5a47-405f-9fe8-674bf1d5d184"
      },
      "source": [
        "# Define dataset\n",
        "train_ds = TensorDataset(inputs, targets) # Tuples of X, y tensor pairs\n",
        "train_ds[0:3]"
      ],
      "execution_count": 29,
      "outputs": [
        {
          "output_type": "execute_result",
          "data": {
            "text/plain": [
              "(tensor([[15.4582, 11.0468, 39.8135],\n",
              "         [35.0071, 57.6199, 34.6630],\n",
              "         [25.3790, 54.7686, 55.4064]]), tensor([[78.6066, 79.6434],\n",
              "         [34.0873, 19.7547],\n",
              "         [13.1934, 29.3280]]))"
            ]
          },
          "metadata": {},
          "execution_count": 29
        }
      ]
    },
    {
      "cell_type": "code",
      "metadata": {
        "id": "yamJfmVU9GL0"
      },
      "source": [
        "from torch.utils.data import DataLoader"
      ],
      "execution_count": 30,
      "outputs": []
    },
    {
      "cell_type": "code",
      "metadata": {
        "id": "u1HlhQNn9Vd2"
      },
      "source": [
        "# Define dataloader\n",
        "batch_size = 5\n",
        "train_dl = DataLoader(train_ds, batch_size, shuffle=True)"
      ],
      "execution_count": 31,
      "outputs": []
    },
    {
      "cell_type": "code",
      "metadata": {
        "colab": {
          "base_uri": "https://localhost:8080/"
        },
        "id": "-lYo6v8-9emA",
        "outputId": "b9f4f41c-edd9-4136-8457-101f1dd7fe65"
      },
      "source": [
        "# Print and check one training data batch\n",
        "for xb, yb in train_dl:\n",
        "    print(xb)\n",
        "    print(yb)\n",
        "    break"
      ],
      "execution_count": 32,
      "outputs": [
        {
          "output_type": "stream",
          "text": [
            "tensor([[58.1864, 75.9520, 70.5568],\n",
            "        [92.1290, 20.9319, 61.5432],\n",
            "        [77.3177,  8.8310,  8.6547],\n",
            "        [75.9336, 21.9865, 93.6252],\n",
            "        [32.9868, 87.9542,  2.1557]])\n",
            "tensor([[85.4138, 77.6122],\n",
            "        [43.0344, 74.1679],\n",
            "        [14.6543, 95.3472],\n",
            "        [13.8537, 75.7735],\n",
            "        [ 4.2567, 37.2163]])\n"
          ],
          "name": "stdout"
        }
      ]
    },
    {
      "cell_type": "code",
      "metadata": {
        "colab": {
          "base_uri": "https://localhost:8080/"
        },
        "id": "nq-u6mqD9xc9",
        "outputId": "6e9c4b47-4eaa-4cc9-a2c7-e3a601da93b2"
      },
      "source": [
        "# Define a simple single-layer linear neural network\n",
        "model = nn.Linear(3, 2)\n",
        "print(model.weight)\n",
        "print(model.bias)"
      ],
      "execution_count": 33,
      "outputs": [
        {
          "output_type": "stream",
          "text": [
            "Parameter containing:\n",
            "tensor([[ 0.3431, -0.4446, -0.3157],\n",
            "        [ 0.2186,  0.2635, -0.4932]], requires_grad=True)\n",
            "Parameter containing:\n",
            "tensor([0.4089, 0.0768], requires_grad=True)\n"
          ],
          "name": "stdout"
        }
      ]
    },
    {
      "cell_type": "code",
      "metadata": {
        "colab": {
          "base_uri": "https://localhost:8080/"
        },
        "id": "c403eVqi-G4Y",
        "outputId": "107455e1-3d75-42e0-bc06-5103ccee7bfa"
      },
      "source": [
        "# Printing all model parameters\n",
        "list(model.parameters())"
      ],
      "execution_count": 34,
      "outputs": [
        {
          "output_type": "execute_result",
          "data": {
            "text/plain": [
              "[Parameter containing:\n",
              " tensor([[ 0.3431, -0.4446, -0.3157],\n",
              "         [ 0.2186,  0.2635, -0.4932]], requires_grad=True),\n",
              " Parameter containing:\n",
              " tensor([0.4089, 0.0768], requires_grad=True)]"
            ]
          },
          "metadata": {},
          "execution_count": 34
        }
      ]
    },
    {
      "cell_type": "code",
      "metadata": {
        "colab": {
          "base_uri": "https://localhost:8080/"
        },
        "id": "dK5QrXPG-v3t",
        "outputId": "59e4a72d-0ee7-4061-84cf-c8113333cdcf"
      },
      "source": [
        "# Generate predictions\n",
        "preds = model(inputs)\n",
        "preds"
      ],
      "execution_count": 35,
      "outputs": [
        {
          "output_type": "execute_result",
          "data": {
            "text/plain": [
              "tensor([[-11.7696, -13.2696],\n",
              "        [-24.1444,   5.8176],\n",
              "        [-32.7296,  -7.2698],\n",
              "        [-35.6754,  -1.9877],\n",
              "        [ -4.8271, -22.3572],\n",
              "        [-47.7180,  10.1791],\n",
              "        [-39.8809, -36.5801],\n",
              "        [  4.8507,  30.7683],\n",
              "        [-33.6778, -41.2918],\n",
              "        [-47.6115, -34.0746],\n",
              "        [-40.2085,  18.1395],\n",
              "        [-12.4694,   4.2809],\n",
              "        [  6.8519,  -4.1441],\n",
              "        [ 20.2790,  15.0385],\n",
              "        [-11.8128, -16.7482],\n",
              "        [ -5.6935,  -8.9072],\n",
              "        [ -6.5800,   0.3012],\n",
              "        [-17.9162, -11.6682],\n",
              "        [-14.9660,  25.3172],\n",
              "        [-48.1130, -30.7909],\n",
              "        [  3.2816,  -4.6206],\n",
              "        [ -9.2211,   5.0083],\n",
              "        [-34.8900,  25.6604],\n",
              "        [-19.6164, -39.2904],\n",
              "        [-54.5251, -20.4827],\n",
              "        [-55.7987,  -5.6746],\n",
              "        [-26.9343,  20.5078],\n",
              "        [-25.6957, -14.2242],\n",
              "        [-28.0619,  29.4033],\n",
              "        [-47.6481,  -1.2712],\n",
              "        [-35.3495,  -6.3087],\n",
              "        [-40.5756,   8.4835],\n",
              "        [ -6.0532, -12.6079],\n",
              "        [-41.3996, -19.6099],\n",
              "        [-21.4378,  10.6732],\n",
              "        [ -9.7678,  -2.6015],\n",
              "        [-13.3650,  -7.2040],\n",
              "        [  4.4285,  -9.2127],\n",
              "        [ -7.0000,  14.7322],\n",
              "        [-12.8739, -23.7070],\n",
              "        [-31.6258,  -3.9476],\n",
              "        [ 15.3662,   4.8843],\n",
              "        [-34.6045,  -0.5458],\n",
              "        [-40.2636,  -9.4439],\n",
              "        [-19.6596,   0.9858]], grad_fn=<AddmmBackward>)"
            ]
          },
          "metadata": {},
          "execution_count": 35
        }
      ]
    },
    {
      "cell_type": "code",
      "metadata": {
        "colab": {
          "base_uri": "https://localhost:8080/"
        },
        "id": "bsLfsYbo_Ihu",
        "outputId": "c03f5395-e075-4226-f369-198bb90374d9"
      },
      "source": [
        "# Define loss function\n",
        "loss_fn = F.mse_loss\n",
        "\n",
        "# Calculate loss\n",
        "loss = loss_fn(model(inputs), targets)\n",
        "print(loss)"
      ],
      "execution_count": 37,
      "outputs": [
        {
          "output_type": "stream",
          "text": [
            "tensor(5747.9526, grad_fn=<MseLossBackward>)\n"
          ],
          "name": "stdout"
        }
      ]
    },
    {
      "cell_type": "code",
      "metadata": {
        "id": "7s7-7VnoBkvg"
      },
      "source": [
        "# Define optimizer\n",
        "opt = torch.optim.SGD(model.parameters(), lr=1e-5)"
      ],
      "execution_count": 38,
      "outputs": []
    },
    {
      "cell_type": "code",
      "metadata": {
        "id": "CfolSuHECAKq"
      },
      "source": [
        "# Custom training loop\n",
        "def fit(num_epochs, model, loss_fn, opt, train_dl):\n",
        "\n",
        "    for epoch in range(num_epochs):\n",
        "        \n",
        "        for xb, yb in train_dl:\n",
        "\n",
        "            pred = model(xb)\n",
        "\n",
        "            loss = loss_fn(pred, yb)\n",
        "\n",
        "            loss.backward()\n",
        "\n",
        "            opt.step()\n",
        "\n",
        "            opt.zero_grad()\n",
        "    \n",
        "    if (epoch+1) % 10 == 0:\n",
        "        print('Epoch [{}/{}], Loss: {:.4f}'.format(epoch+1, num_epochs, loss.item()))"
      ],
      "execution_count": 39,
      "outputs": []
    },
    {
      "cell_type": "code",
      "metadata": {
        "colab": {
          "base_uri": "https://localhost:8080/"
        },
        "id": "3xY2U4jYDLWp",
        "outputId": "f5c27ae6-e4af-4061-a116-623e36221393"
      },
      "source": [
        "fit(100, model, loss_fn, opt, train_dl)"
      ],
      "execution_count": 51,
      "outputs": [
        {
          "output_type": "stream",
          "text": [
            "Epoch [100/100], Loss: 476.9442\n"
          ],
          "name": "stdout"
        }
      ]
    }
  ]
}