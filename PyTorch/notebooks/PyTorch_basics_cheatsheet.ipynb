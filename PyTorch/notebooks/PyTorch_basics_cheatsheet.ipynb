{
  "nbformat": 4,
  "nbformat_minor": 0,
  "metadata": {
    "colab": {
      "name": "PyTorch basics cheatsheet.ipynb",
      "provenance": [],
      "authorship_tag": "ABX9TyM/Prq0VRu1axMyRLmnlFWr",
      "include_colab_link": true
    },
    "kernelspec": {
      "name": "python3",
      "display_name": "Python 3"
    },
    "language_info": {
      "name": "python"
    }
  },
  "cells": [
    {
      "cell_type": "markdown",
      "metadata": {
        "id": "view-in-github",
        "colab_type": "text"
      },
      "source": [
        "<a href=\"https://colab.research.google.com/github/DebadityaShome/Deep-learning-practice/blob/main/PyTorch/PyTorch_basics_cheatsheet.ipynb\" target=\"_parent\"><img src=\"https://colab.research.google.com/assets/colab-badge.svg\" alt=\"Open In Colab\"/></a>"
      ]
    },
    {
      "cell_type": "code",
      "metadata": {
        "colab": {
          "base_uri": "https://localhost:8080/"
        },
        "id": "6xADpfQyc_P4",
        "outputId": "dfc0ae0f-c877-4c2c-ca4b-448f07546dcb"
      },
      "source": [
        "import torch\n",
        "print(torch.__version__)"
      ],
      "execution_count": 1,
      "outputs": [
        {
          "output_type": "stream",
          "text": [
            "1.8.1+cu101\n"
          ],
          "name": "stdout"
        }
      ]
    },
    {
      "cell_type": "code",
      "metadata": {
        "colab": {
          "base_uri": "https://localhost:8080/"
        },
        "id": "2DUOGd5edcOz",
        "outputId": "4aa1301b-5e71-4ff1-b4c6-810821b377c6"
      },
      "source": [
        "## Initializing tensors\n",
        "my_tensor = torch.tensor([[1, 2, 3], [4, 5, 6]], dtype=torch.float32, device=\"cpu\")\n",
        "print(my_tensor)"
      ],
      "execution_count": 2,
      "outputs": [
        {
          "output_type": "stream",
          "text": [
            "tensor([[1., 2., 3.],\n",
            "        [4., 5., 6.]])\n"
          ],
          "name": "stdout"
        }
      ]
    },
    {
      "cell_type": "code",
      "metadata": {
        "colab": {
          "base_uri": "https://localhost:8080/"
        },
        "id": "PNGh3_KpeTUy",
        "outputId": "524fbecd-a3a5-4122-a1ae-8a9c370b70c2"
      },
      "source": [
        "## Common intialization methods\n",
        "x = torch.empty(size = (3, 3))\n",
        "print(x)\n",
        "x = torch.zeros(())\n",
        "print(x)\n",
        "x = torch.rand((3, 3))\n",
        "print(x)\n",
        "x = torch.ones((3, 3))\n",
        "print(x)\n",
        "x = torch.eye(5, 5)\n",
        "print(x)\n",
        "x = torch.arange(start=0, end=5, step=1)\n",
        "print(x)\n",
        "x = torch.linspace(start=0.1, end=1, steps=10)\n",
        "print(x)\n",
        "x = torch.empty(size=(1, 5)).normal_(mean=0, std=1)\n",
        "print(x)\n",
        "x = torch.empty(size=(1, 5)).uniform_(0, 1)\n",
        "print(x)\n",
        "x = torch.diag(torch.ones(3))\n",
        "print(x)"
      ],
      "execution_count": 10,
      "outputs": [
        {
          "output_type": "stream",
          "text": [
            "tensor([[-5.2745e+10,  3.0631e-41, -5.7924e+10],\n",
            "        [ 3.0631e-41, -7.1837e+10,  3.0631e-41],\n",
            "        [-2.4319e+10,  3.0631e-41, -7.1813e+10]])\n",
            "tensor(0.)\n",
            "tensor([[0.3706, 0.5319, 0.4394],\n",
            "        [0.1723, 0.4002, 0.2370],\n",
            "        [0.9204, 0.8165, 0.3673]])\n",
            "tensor([[1., 1., 1.],\n",
            "        [1., 1., 1.],\n",
            "        [1., 1., 1.]])\n",
            "tensor([[1., 0., 0., 0., 0.],\n",
            "        [0., 1., 0., 0., 0.],\n",
            "        [0., 0., 1., 0., 0.],\n",
            "        [0., 0., 0., 1., 0.],\n",
            "        [0., 0., 0., 0., 1.]])\n",
            "tensor([0, 1, 2, 3, 4])\n",
            "tensor([0.1000, 0.2000, 0.3000, 0.4000, 0.5000, 0.6000, 0.7000, 0.8000, 0.9000,\n",
            "        1.0000])\n",
            "tensor([[-1.2605,  0.4480,  1.5648,  0.7767,  0.0423]])\n",
            "tensor([[0.6508, 0.0416, 0.7558, 0.2743, 0.0780]])\n",
            "tensor([[1., 0., 0.],\n",
            "        [0., 1., 0.],\n",
            "        [0., 0., 1.]])\n"
          ],
          "name": "stdout"
        }
      ]
    },
    {
      "cell_type": "code",
      "metadata": {
        "id": "Cch-VYJchQzx"
      },
      "source": [
        "# Array to Tensor conversion\n",
        "import numpy as np\n",
        "np_array = np.zeros((5, 5))\n",
        "tensor = torch.from_numpy(np_array)\n",
        "\n",
        "# Vice-versa\n",
        "np_array_back = tensor.numpy()"
      ],
      "execution_count": 11,
      "outputs": []
    },
    {
      "cell_type": "markdown",
      "metadata": {
        "id": "hUdY75dpkSbt"
      },
      "source": [
        "## **Math and comparison operations**"
      ]
    },
    {
      "cell_type": "code",
      "metadata": {
        "colab": {
          "base_uri": "https://localhost:8080/"
        },
        "id": "MKzX0saYkEwM",
        "outputId": "e5248afe-a18d-43b6-e126-b37c518db397"
      },
      "source": [
        "# Addition\n",
        "x = torch.tensor([1, 2, 3])\n",
        "y = torch.tensor([9, 8, 7])\n",
        "z1 = torch.empty(3)\n",
        "torch.add(x, y, out=z1) # First way\n",
        "print(z1)\n",
        "z2 = torch.add(x, y) # Second way (Preferred)\n",
        "print(z2)"
      ],
      "execution_count": 12,
      "outputs": [
        {
          "output_type": "stream",
          "text": [
            "tensor([10., 10., 10.])\n",
            "tensor([10, 10, 10])\n"
          ],
          "name": "stdout"
        }
      ]
    },
    {
      "cell_type": "code",
      "metadata": {
        "id": "TXmNe__Wk0P7"
      },
      "source": [
        "# Subtraction\n",
        "z = x - y"
      ],
      "execution_count": 13,
      "outputs": []
    },
    {
      "cell_type": "code",
      "metadata": {
        "id": "vXjob6Xumvlc"
      },
      "source": [
        "# Division\n",
        "z = torch.true_divide(x, y) "
      ],
      "execution_count": 14,
      "outputs": []
    },
    {
      "cell_type": "code",
      "metadata": {
        "colab": {
          "base_uri": "https://localhost:8080/"
        },
        "id": "DandxK5ynEI2",
        "outputId": "291d1bbe-7a1e-4cec-cd3d-81fa3c6fd718"
      },
      "source": [
        "# inplace operations\n",
        "# All operations with an underscore (_) added at the end are inplace operations in torch\n",
        "t = torch.zeros(3)\n",
        "t.add_(x)"
      ],
      "execution_count": 15,
      "outputs": [
        {
          "output_type": "execute_result",
          "data": {
            "text/plain": [
              "tensor([1., 2., 3.])"
            ]
          },
          "metadata": {
            "tags": []
          },
          "execution_count": 15
        }
      ]
    },
    {
      "cell_type": "code",
      "metadata": {
        "id": "om7iMCnInbTx"
      },
      "source": [
        "# Exponentiation\n",
        "z = x.pow(2)\n",
        "z = x ** 2\n",
        "\n",
        "# Simple comparisons\n",
        "z = x > 0\n",
        "z = x < 0"
      ],
      "execution_count": 16,
      "outputs": []
    },
    {
      "cell_type": "code",
      "metadata": {
        "id": "j20iJHeun8Rp"
      },
      "source": [
        "# Matrix multiplication\n",
        "x1 = torch.rand((2, 5))\n",
        "x2 = torch.rand((5, 3))\n",
        "x3 = torch.mm(x1, x2) # 1st way\n",
        "x3 = x1.mm(x2) # 2nd way"
      ],
      "execution_count": 17,
      "outputs": []
    },
    {
      "cell_type": "code",
      "metadata": {
        "colab": {
          "base_uri": "https://localhost:8080/"
        },
        "id": "kz0Q48FwowfZ",
        "outputId": "df9e9df4-f4b3-47e7-91e7-9311744d5663"
      },
      "source": [
        "# Matrix exponentiation\n",
        "matrix = torch.rand(5, 5)\n",
        "print(matrix)\n",
        "print(matrix.matrix_power(3))"
      ],
      "execution_count": 21,
      "outputs": [
        {
          "output_type": "stream",
          "text": [
            "tensor([[0.0645, 0.3473, 0.5203, 0.4274, 0.7344],\n",
            "        [0.6866, 0.3455, 0.9288, 0.2176, 0.4864],\n",
            "        [0.6037, 0.0828, 0.5129, 0.3814, 0.6030],\n",
            "        [0.9940, 0.2875, 0.7389, 0.0828, 0.3184],\n",
            "        [0.2386, 0.0347, 0.4733, 0.2628, 0.0063]])\n",
            "tensor([[1.7673, 0.7994, 2.2810, 1.2779, 1.9607],\n",
            "        [2.5367, 1.0087, 3.1410, 1.6182, 2.3295],\n",
            "        [1.9565, 0.7879, 2.4152, 1.2482, 1.8349],\n",
            "        [2.4325, 0.8952, 2.9293, 1.4365, 2.0103],\n",
            "        [0.9875, 0.4356, 1.3038, 0.6977, 0.9966]])\n"
          ],
          "name": "stdout"
        }
      ]
    },
    {
      "cell_type": "code",
      "metadata": {
        "colab": {
          "base_uri": "https://localhost:8080/"
        },
        "id": "z2TxfaRyqwA0",
        "outputId": "5260bfb1-2d63-4f18-8d39-e053449a242a"
      },
      "source": [
        "# Element wise multiplication\n",
        "z = x * y\n",
        "print(z)"
      ],
      "execution_count": 22,
      "outputs": [
        {
          "output_type": "stream",
          "text": [
            "tensor([ 9, 16, 21])\n"
          ],
          "name": "stdout"
        }
      ]
    },
    {
      "cell_type": "code",
      "metadata": {
        "colab": {
          "base_uri": "https://localhost:8080/"
        },
        "id": "kEx5iOhNq2Qo",
        "outputId": "d5c0edc9-de5e-4885-e0e5-d52d39f752ea"
      },
      "source": [
        "# Dot product\n",
        "Z = torch.dot(x, y)\n",
        "print(Z)"
      ],
      "execution_count": 23,
      "outputs": [
        {
          "output_type": "stream",
          "text": [
            "tensor(46)\n"
          ],
          "name": "stdout"
        }
      ]
    },
    {
      "cell_type": "code",
      "metadata": {
        "id": "qQA3CuifrLd5"
      },
      "source": [
        "# Batch matrix multiplication\n",
        "batch = 32\n",
        "n = 10\n",
        "m = 20\n",
        "p = 30\n",
        "tensor1 = torch.rand((batch, n, m))\n",
        "tensor2 = torch.rand((batch, m, p))\n",
        "out_bmm = torch.bmm(tensor1, tensor2)"
      ],
      "execution_count": 24,
      "outputs": []
    },
    {
      "cell_type": "code",
      "metadata": {
        "id": "YQML71BbrgTr"
      },
      "source": [
        "# Broadcasting\n",
        "x1 = torch.rand((5, 5))\n",
        "x2 = torch.rand((1, 5))\n",
        "\n",
        "z = x1 - x2  # x2 would be broadcasted (automatically expanded) from (1 x 5) to (5 x 5)\n",
        "z = x1 ** x2 # x2 would be broadcasted (automatically expanded) from (1 x 5) to (5 x 5)"
      ],
      "execution_count": 28,
      "outputs": []
    },
    {
      "cell_type": "code",
      "metadata": {
        "id": "Vz9evRoUrhhK"
      },
      "source": [
        "# Other useful tensor operations\n",
        "sum_x = torch.sum(x, dim=0)\n",
        "values, indices = torch.max(x, dim=0)\n",
        "values, indices = torch.min(x, dim=0)\n",
        "abs_x = torch.abs(x) # absolute value\n",
        "z = torch.argmax(x, dim=0)  # Returns index of maximum\n",
        "z = torch.argmin(x, dim=0)\n",
        "mean_x = torch.mean(x.float(), dim=0)\n",
        "z = torch.eq(x, y) # Boolean indicating if two tensors are equal or not\n",
        "sorted_y, indices = torch.sort(y, dim=0, descending=False)"
      ],
      "execution_count": 31,
      "outputs": []
    },
    {
      "cell_type": "code",
      "metadata": {
        "id": "P8hLFDsqtTiI"
      },
      "source": [
        "z = torch.clamp(x, min=0) # clamps the value to be between min and max"
      ],
      "execution_count": 32,
      "outputs": []
    },
    {
      "cell_type": "code",
      "metadata": {
        "colab": {
          "base_uri": "https://localhost:8080/"
        },
        "id": "ubH4msIXt89K",
        "outputId": "78fa4766-6dfe-4886-db52-3a4804004d77"
      },
      "source": [
        "x = torch.tensor([1, 0, 1, 1, 1], dtype=torch.bool)\n",
        "z = torch.any(x)\n",
        "print(z)"
      ],
      "execution_count": 33,
      "outputs": [
        {
          "output_type": "stream",
          "text": [
            "tensor(True)\n"
          ],
          "name": "stdout"
        }
      ]
    },
    {
      "cell_type": "markdown",
      "metadata": {
        "id": "HvHx0uA8uakT"
      },
      "source": [
        "## **Tensor indexing**"
      ]
    },
    {
      "cell_type": "code",
      "metadata": {
        "id": "ZtGHFpxpuIQA"
      },
      "source": [
        "batch_size = 10\n",
        "features = 25\n",
        "x = torch.rand((batch_size, features))"
      ],
      "execution_count": 42,
      "outputs": []
    },
    {
      "cell_type": "code",
      "metadata": {
        "colab": {
          "base_uri": "https://localhost:8080/"
        },
        "id": "lVA9ryEyutma",
        "outputId": "8c51b504-1b1c-42b7-e11f-09a70cdbce83"
      },
      "source": [
        "# Get all features of the first  batch\n",
        "print(x[0])\n",
        "print(x[0, :]) ## same"
      ],
      "execution_count": 45,
      "outputs": [
        {
          "output_type": "stream",
          "text": [
            "tensor([0.0612, 0.7926, 0.6711, 0.9714, 0.7172, 0.4337, 0.9874, 0.0784, 0.1499,\n",
            "        0.1561, 0.3474, 0.1976, 0.5718, 0.0525, 0.7681, 0.6785, 0.0447, 0.8151,\n",
            "        0.3494, 0.8551, 0.5453, 0.7473, 0.9732, 0.3800, 0.0061])\n",
            "tensor([0.0612, 0.7926, 0.6711, 0.9714, 0.7172, 0.4337, 0.9874, 0.0784, 0.1499,\n",
            "        0.1561, 0.3474, 0.1976, 0.5718, 0.0525, 0.7681, 0.6785, 0.0447, 0.8151,\n",
            "        0.3494, 0.8551, 0.5453, 0.7473, 0.9732, 0.3800, 0.0061])\n"
          ],
          "name": "stdout"
        }
      ]
    },
    {
      "cell_type": "code",
      "metadata": {
        "colab": {
          "base_uri": "https://localhost:8080/"
        },
        "id": "P63x6hgSvJSQ",
        "outputId": "0dab2b8b-247d-44a9-8ea7-aa5c096f07e8"
      },
      "source": [
        "# Get first feature from all the batches\n",
        "print(x[:, 0])"
      ],
      "execution_count": 46,
      "outputs": [
        {
          "output_type": "stream",
          "text": [
            "tensor([0.0612, 0.0467, 0.8516, 0.2784, 0.6485, 0.4667, 0.4757, 0.9826, 0.2730,\n",
            "        0.8568])\n"
          ],
          "name": "stdout"
        }
      ]
    },
    {
      "cell_type": "code",
      "metadata": {
        "colab": {
          "base_uri": "https://localhost:8080/"
        },
        "id": "359kvNPvva3J",
        "outputId": "577c6437-e7c0-4298-bb9b-9f5b964e63c6"
      },
      "source": [
        "# Get third batch and first ten features\n",
        "print(x[2, :10])"
      ],
      "execution_count": 47,
      "outputs": [
        {
          "output_type": "stream",
          "text": [
            "tensor([0.8516, 0.7736, 0.9119, 0.5165, 0.8589, 0.9460, 0.5859, 0.0914, 0.9560,\n",
            "        0.3036])\n"
          ],
          "name": "stdout"
        }
      ]
    },
    {
      "cell_type": "code",
      "metadata": {
        "colab": {
          "base_uri": "https://localhost:8080/"
        },
        "id": "kqgNz8YXvuDL",
        "outputId": "33306e8c-7572-4e3e-a7c2-fbeb0ac1b7b7"
      },
      "source": [
        "# Fancy indexing\n",
        "x = torch.arange(10)\n",
        "indices = [2, 5, 8]\n",
        "print(x[indices])  # Picks 3rd, 6th and 8th examples from the batch"
      ],
      "execution_count": 50,
      "outputs": [
        {
          "output_type": "stream",
          "text": [
            "tensor([2, 5, 8])\n"
          ],
          "name": "stdout"
        }
      ]
    },
    {
      "cell_type": "code",
      "metadata": {
        "colab": {
          "base_uri": "https://localhost:8080/"
        },
        "id": "sRIHzokh3Ey5",
        "outputId": "abdcf476-ed39-47f7-f756-1275a962b566"
      },
      "source": [
        "x = torch.rand((3, 5))\n",
        "rows = torch.tensor([1, 0])\n",
        "cols = torch.tensor([4, 0])\n",
        "print(rows, cols, x)\n",
        "print(x[rows, cols])  # Picks out elements at indices (1, 4) and (0, 0)"
      ],
      "execution_count": 54,
      "outputs": [
        {
          "output_type": "stream",
          "text": [
            "tensor([1, 0]) tensor([4, 0]) tensor([[0.7487, 0.0949, 0.0113, 0.4540, 0.4770],\n",
            "        [0.2928, 0.5132, 0.6460, 0.0765, 0.2650],\n",
            "        [0.8292, 0.2432, 0.4387, 0.3062, 0.6247]])\n",
            "tensor([0.2650, 0.7487])\n"
          ],
          "name": "stdout"
        }
      ]
    },
    {
      "cell_type": "code",
      "metadata": {
        "colab": {
          "base_uri": "https://localhost:8080/"
        },
        "id": "ZvIt5aD3CPM5",
        "outputId": "170596ef-d502-433a-93d5-9144ff7c25d9"
      },
      "source": [
        "# More advanced indexing and operations\n",
        "x = torch.arange(10)\n",
        "print(x[(x < 2) | (x > 8)])\n",
        "print(x[x.remainder(2) == 0])\n",
        "print(torch.where(x > 5, x, x + 2))\n",
        "print(torch.tensor([0, 0, 1, 2, 2, 3]).unique())\n",
        "print(x.ndimension()) # Rank of tensor\n",
        "print(x.numel())  # Prints number of elements"
      ],
      "execution_count": 56,
      "outputs": [
        {
          "output_type": "stream",
          "text": [
            "tensor([0, 1, 9])\n",
            "tensor([0, 2, 4, 6, 8])\n",
            "tensor([2, 3, 4, 5, 6, 7, 6, 7, 8, 9])\n",
            "tensor([0, 1, 2, 3])\n",
            "1\n",
            "10\n"
          ],
          "name": "stdout"
        }
      ]
    },
    {
      "cell_type": "markdown",
      "metadata": {
        "id": "9Iaqjot7NMqD"
      },
      "source": [
        "## **Tensor Reshaping**"
      ]
    },
    {
      "cell_type": "code",
      "metadata": {
        "colab": {
          "base_uri": "https://localhost:8080/"
        },
        "id": "ILB7A5R0EPfW",
        "outputId": "435fc90e-b5da-48e2-d8d7-ad2bd9cb2eab"
      },
      "source": [
        "x = torch.arange(9)\n",
        "x_3x3 = x.view(3, 3) # 1st way\n",
        "print(x_3x3)\n",
        "x_3x3 = x.reshape(3, 3) # 2nd way\n",
        "print(x_3x3)\n",
        "\n",
        "# Transpose\n",
        "print(x_3x3.t())"
      ],
      "execution_count": 59,
      "outputs": [
        {
          "output_type": "stream",
          "text": [
            "tensor([[0, 1, 2],\n",
            "        [3, 4, 5],\n",
            "        [6, 7, 8]])\n",
            "tensor([[0, 1, 2],\n",
            "        [3, 4, 5],\n",
            "        [6, 7, 8]])\n",
            "tensor([[0, 3, 6],\n",
            "        [1, 4, 7],\n",
            "        [2, 5, 8]])\n"
          ],
          "name": "stdout"
        }
      ]
    },
    {
      "cell_type": "code",
      "metadata": {
        "colab": {
          "base_uri": "https://localhost:8080/"
        },
        "id": "ri2ptU53S99G",
        "outputId": "a58743f9-5e71-4e9b-eaea-b8f4afa55320"
      },
      "source": [
        "x1 = torch.rand((2, 5))\n",
        "x2 = torch.rand((2, 5))\n",
        "print(x1, x2)\n",
        "print(torch.cat((x1, x2), dim=0))\n",
        "print(torch.cat((x1, x2), dim=1))"
      ],
      "execution_count": 62,
      "outputs": [
        {
          "output_type": "stream",
          "text": [
            "tensor([[0.3800, 0.4789, 0.4777, 0.0413, 0.6067],\n",
            "        [0.8260, 0.0969, 0.3316, 0.2362, 0.9230]]) tensor([[0.0435, 0.9524, 0.1285, 0.3910, 0.3063],\n",
            "        [0.8493, 0.7704, 0.1149, 0.3772, 0.0865]])\n",
            "tensor([[0.3800, 0.4789, 0.4777, 0.0413, 0.6067],\n",
            "        [0.8260, 0.0969, 0.3316, 0.2362, 0.9230],\n",
            "        [0.0435, 0.9524, 0.1285, 0.3910, 0.3063],\n",
            "        [0.8493, 0.7704, 0.1149, 0.3772, 0.0865]])\n",
            "tensor([[0.3800, 0.4789, 0.4777, 0.0413, 0.6067, 0.0435, 0.9524, 0.1285, 0.3910,\n",
            "         0.3063],\n",
            "        [0.8260, 0.0969, 0.3316, 0.2362, 0.9230, 0.8493, 0.7704, 0.1149, 0.3772,\n",
            "         0.0865]])\n"
          ],
          "name": "stdout"
        }
      ]
    },
    {
      "cell_type": "code",
      "metadata": {
        "colab": {
          "base_uri": "https://localhost:8080/"
        },
        "id": "Unc0hbj4W6Rj",
        "outputId": "b89cea89-9289-4437-f9f2-0765b11e926a"
      },
      "source": [
        "x1.view(-1) # Flattens the tensor"
      ],
      "execution_count": 65,
      "outputs": [
        {
          "output_type": "execute_result",
          "data": {
            "text/plain": [
              "tensor([0.3800, 0.4789, 0.4777, 0.0413, 0.6067, 0.8260, 0.0969, 0.3316, 0.2362,\n",
              "        0.9230])"
            ]
          },
          "metadata": {
            "tags": []
          },
          "execution_count": 65
        }
      ]
    },
    {
      "cell_type": "code",
      "metadata": {
        "colab": {
          "base_uri": "https://localhost:8080/"
        },
        "id": "ECX73hHpXYXB",
        "outputId": "71c746dc-ab3c-47f0-9425-313e04ac35a9"
      },
      "source": [
        "batch = 64\n",
        "x = torch.rand((batch, 2, 5))\n",
        "z = x.view(batch, -1)\n",
        "print(x.shape, z.shape)"
      ],
      "execution_count": 68,
      "outputs": [
        {
          "output_type": "stream",
          "text": [
            "torch.Size([64, 2, 5]) torch.Size([64, 10])\n"
          ],
          "name": "stdout"
        }
      ]
    },
    {
      "cell_type": "code",
      "metadata": {
        "id": "-T-DEbEtXnjJ"
      },
      "source": [
        "z = x.permute(0, 2, 1) ## interchanging dimensions"
      ],
      "execution_count": 70,
      "outputs": []
    }
  ]
}